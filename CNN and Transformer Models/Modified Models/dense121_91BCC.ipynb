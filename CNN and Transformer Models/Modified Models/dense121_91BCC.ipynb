{
  "nbformat": 4,
  "nbformat_minor": 0,
  "metadata": {
    "colab": {
      "provenance": [],
      "gpuType": "T4"
    },
    "kernelspec": {
      "name": "python3",
      "display_name": "Python 3"
    },
    "language_info": {
      "name": "python"
    },
    "accelerator": "GPU"
  },
  "cells": [
    {
      "cell_type": "code",
      "execution_count": 1,
      "metadata": {
        "colab": {
          "base_uri": "https://localhost:8080/",
          "height": 1000
        },
        "id": "UVctjHbN2xWk",
        "outputId": "b83307d5-8bad-428b-8083-6d60e7727d77"
      },
      "outputs": [
        {
          "output_type": "stream",
          "name": "stdout",
          "text": [
            "Requirement already satisfied: gdown in /usr/local/lib/python3.10/dist-packages (5.1.0)\n",
            "Collecting timm\n",
            "  Downloading timm-1.0.7-py3-none-any.whl (2.3 MB)\n",
            "\u001b[2K     \u001b[90m━━━━━━━━━━━━━━━━━━━━━━━━━━━━━━━━━━━━━━━━\u001b[0m \u001b[32m2.3/2.3 MB\u001b[0m \u001b[31m39.3 MB/s\u001b[0m eta \u001b[36m0:00:00\u001b[0m\n",
            "\u001b[?25hRequirement already satisfied: beautifulsoup4 in /usr/local/lib/python3.10/dist-packages (from gdown) (4.12.3)\n",
            "Requirement already satisfied: filelock in /usr/local/lib/python3.10/dist-packages (from gdown) (3.15.4)\n",
            "Requirement already satisfied: requests[socks] in /usr/local/lib/python3.10/dist-packages (from gdown) (2.31.0)\n",
            "Requirement already satisfied: tqdm in /usr/local/lib/python3.10/dist-packages (from gdown) (4.66.4)\n",
            "Requirement already satisfied: torch in /usr/local/lib/python3.10/dist-packages (from timm) (2.3.1+cu121)\n",
            "Requirement already satisfied: torchvision in /usr/local/lib/python3.10/dist-packages (from timm) (0.18.1+cu121)\n",
            "Requirement already satisfied: pyyaml in /usr/local/lib/python3.10/dist-packages (from timm) (6.0.1)\n",
            "Requirement already satisfied: huggingface_hub in /usr/local/lib/python3.10/dist-packages (from timm) (0.23.5)\n",
            "Requirement already satisfied: safetensors in /usr/local/lib/python3.10/dist-packages (from timm) (0.4.3)\n",
            "Requirement already satisfied: soupsieve>1.2 in /usr/local/lib/python3.10/dist-packages (from beautifulsoup4->gdown) (2.5)\n",
            "Requirement already satisfied: fsspec>=2023.5.0 in /usr/local/lib/python3.10/dist-packages (from huggingface_hub->timm) (2023.6.0)\n",
            "Requirement already satisfied: packaging>=20.9 in /usr/local/lib/python3.10/dist-packages (from huggingface_hub->timm) (24.1)\n",
            "Requirement already satisfied: typing-extensions>=3.7.4.3 in /usr/local/lib/python3.10/dist-packages (from huggingface_hub->timm) (4.12.2)\n",
            "Requirement already satisfied: charset-normalizer<4,>=2 in /usr/local/lib/python3.10/dist-packages (from requests[socks]->gdown) (3.3.2)\n",
            "Requirement already satisfied: idna<4,>=2.5 in /usr/local/lib/python3.10/dist-packages (from requests[socks]->gdown) (3.7)\n",
            "Requirement already satisfied: urllib3<3,>=1.21.1 in /usr/local/lib/python3.10/dist-packages (from requests[socks]->gdown) (2.0.7)\n",
            "Requirement already satisfied: certifi>=2017.4.17 in /usr/local/lib/python3.10/dist-packages (from requests[socks]->gdown) (2024.7.4)\n",
            "Requirement already satisfied: PySocks!=1.5.7,>=1.5.6 in /usr/local/lib/python3.10/dist-packages (from requests[socks]->gdown) (1.7.1)\n",
            "Requirement already satisfied: sympy in /usr/local/lib/python3.10/dist-packages (from torch->timm) (1.13.0)\n",
            "Requirement already satisfied: networkx in /usr/local/lib/python3.10/dist-packages (from torch->timm) (3.3)\n",
            "Requirement already satisfied: jinja2 in /usr/local/lib/python3.10/dist-packages (from torch->timm) (3.1.4)\n",
            "Collecting nvidia-cuda-nvrtc-cu12==12.1.105 (from torch->timm)\n",
            "  Using cached nvidia_cuda_nvrtc_cu12-12.1.105-py3-none-manylinux1_x86_64.whl (23.7 MB)\n",
            "Collecting nvidia-cuda-runtime-cu12==12.1.105 (from torch->timm)\n",
            "  Using cached nvidia_cuda_runtime_cu12-12.1.105-py3-none-manylinux1_x86_64.whl (823 kB)\n",
            "Collecting nvidia-cuda-cupti-cu12==12.1.105 (from torch->timm)\n",
            "  Using cached nvidia_cuda_cupti_cu12-12.1.105-py3-none-manylinux1_x86_64.whl (14.1 MB)\n",
            "Collecting nvidia-cudnn-cu12==8.9.2.26 (from torch->timm)\n",
            "  Using cached nvidia_cudnn_cu12-8.9.2.26-py3-none-manylinux1_x86_64.whl (731.7 MB)\n",
            "Collecting nvidia-cublas-cu12==12.1.3.1 (from torch->timm)\n",
            "  Using cached nvidia_cublas_cu12-12.1.3.1-py3-none-manylinux1_x86_64.whl (410.6 MB)\n",
            "Collecting nvidia-cufft-cu12==11.0.2.54 (from torch->timm)\n",
            "  Using cached nvidia_cufft_cu12-11.0.2.54-py3-none-manylinux1_x86_64.whl (121.6 MB)\n",
            "Collecting nvidia-curand-cu12==10.3.2.106 (from torch->timm)\n",
            "  Using cached nvidia_curand_cu12-10.3.2.106-py3-none-manylinux1_x86_64.whl (56.5 MB)\n",
            "Collecting nvidia-cusolver-cu12==11.4.5.107 (from torch->timm)\n",
            "  Using cached nvidia_cusolver_cu12-11.4.5.107-py3-none-manylinux1_x86_64.whl (124.2 MB)\n",
            "Collecting nvidia-cusparse-cu12==12.1.0.106 (from torch->timm)\n",
            "  Using cached nvidia_cusparse_cu12-12.1.0.106-py3-none-manylinux1_x86_64.whl (196.0 MB)\n",
            "Collecting nvidia-nccl-cu12==2.20.5 (from torch->timm)\n",
            "  Using cached nvidia_nccl_cu12-2.20.5-py3-none-manylinux2014_x86_64.whl (176.2 MB)\n",
            "Collecting nvidia-nvtx-cu12==12.1.105 (from torch->timm)\n",
            "  Using cached nvidia_nvtx_cu12-12.1.105-py3-none-manylinux1_x86_64.whl (99 kB)\n",
            "Requirement already satisfied: triton==2.3.1 in /usr/local/lib/python3.10/dist-packages (from torch->timm) (2.3.1)\n",
            "Collecting nvidia-nvjitlink-cu12 (from nvidia-cusolver-cu12==11.4.5.107->torch->timm)\n",
            "  Downloading nvidia_nvjitlink_cu12-12.5.82-py3-none-manylinux2014_x86_64.whl (21.3 MB)\n",
            "\u001b[2K     \u001b[90m━━━━━━━━━━━━━━━━━━━━━━━━━━━━━━━━━━━━━━━━\u001b[0m \u001b[32m21.3/21.3 MB\u001b[0m \u001b[31m60.4 MB/s\u001b[0m eta \u001b[36m0:00:00\u001b[0m\n",
            "\u001b[?25hRequirement already satisfied: numpy in /usr/local/lib/python3.10/dist-packages (from torchvision->timm) (1.25.2)\n",
            "Requirement already satisfied: pillow!=8.3.*,>=5.3.0 in /usr/local/lib/python3.10/dist-packages (from torchvision->timm) (9.4.0)\n",
            "Requirement already satisfied: MarkupSafe>=2.0 in /usr/local/lib/python3.10/dist-packages (from jinja2->torch->timm) (2.1.5)\n",
            "Requirement already satisfied: mpmath<1.4,>=1.1.0 in /usr/local/lib/python3.10/dist-packages (from sympy->torch->timm) (1.3.0)\n",
            "Installing collected packages: nvidia-nvtx-cu12, nvidia-nvjitlink-cu12, nvidia-nccl-cu12, nvidia-curand-cu12, nvidia-cufft-cu12, nvidia-cuda-runtime-cu12, nvidia-cuda-nvrtc-cu12, nvidia-cuda-cupti-cu12, nvidia-cublas-cu12, nvidia-cusparse-cu12, nvidia-cudnn-cu12, nvidia-cusolver-cu12, timm\n",
            "Successfully installed nvidia-cublas-cu12-12.1.3.1 nvidia-cuda-cupti-cu12-12.1.105 nvidia-cuda-nvrtc-cu12-12.1.105 nvidia-cuda-runtime-cu12-12.1.105 nvidia-cudnn-cu12-8.9.2.26 nvidia-cufft-cu12-11.0.2.54 nvidia-curand-cu12-10.3.2.106 nvidia-cusolver-cu12-11.4.5.107 nvidia-cusparse-cu12-12.1.0.106 nvidia-nccl-cu12-2.20.5 nvidia-nvjitlink-cu12-12.5.82 nvidia-nvtx-cu12-12.1.105 timm-1.0.7\n"
          ]
        },
        {
          "output_type": "stream",
          "name": "stderr",
          "text": [
            "Downloading...\n",
            "From (original): https://drive.google.com/uc?id=1jsMUDlvsXWQu2BansJz73mAErVyNg_g7\n",
            "From (redirected): https://drive.google.com/uc?id=1jsMUDlvsXWQu2BansJz73mAErVyNg_g7&confirm=t&uuid=20b7582d-ddf6-4d1b-932e-2b975f45403b\n",
            "To: /content/shared_file.zip\n",
            "100%|██████████| 1.46G/1.46G [00:23<00:00, 62.1MB/s]\n"
          ]
        },
        {
          "output_type": "execute_result",
          "data": {
            "text/plain": [
              "'/content/shared_file.zip'"
            ],
            "application/vnd.google.colaboratory.intrinsic+json": {
              "type": "string"
            }
          },
          "metadata": {},
          "execution_count": 1
        }
      ],
      "source": [
        "\n",
        "!pip install gdown timm\n",
        "\n",
        "import gdown\n",
        "import zipfile\n",
        "import torch\n",
        "import torch.nn as nn\n",
        "import torch.optim as optim\n",
        "from torch.optim.lr_scheduler import ReduceLROnPlateau\n",
        "from torch.utils.data import DataLoader, Subset\n",
        "import torchvision.transforms as transforms\n",
        "from tqdm import tqdm\n",
        "from sklearn.model_selection import train_test_split\n",
        "from PIL import Image\n",
        "import os\n",
        "import timm\n",
        "import numpy as np\n",
        "from sklearn.metrics import classification_report\n",
        "import matplotlib.pyplot as plt\n",
        "\n",
        "# Download and extract dataset\n",
        "file_id = '1jsMUDlvsXWQu2BansJz73mAErVyNg_g7'\n",
        "destination = '/content/shared_file.zip'\n",
        "gdown.download(id=file_id, output=destination, quiet=False)\n"
      ]
    },
    {
      "cell_type": "code",
      "source": [
        "\n",
        "# Check if the file is indeed a ZIP file\n",
        "zip_path = '/content/shared_file.zip'\n",
        "\n",
        "try:\n",
        "    with zipfile.ZipFile(zip_path, 'r') as zip_ref:\n",
        "        print(\"ZIP file opened successfully.\")\n",
        "        zip_ref.extractall('/content')\n",
        "    print(\"Extraction complete.\")\n",
        "except zipfile.BadZipFile:\n",
        "    print(\"Error: The file is not a valid ZIP file or it is corrupted.\")\n",
        "except Exception as e:\n",
        "    print(f\"An unexpected error occurred: {e}\")\n"
      ],
      "metadata": {
        "colab": {
          "base_uri": "https://localhost:8080/"
        },
        "id": "94VNs4eTXmPF",
        "outputId": "38273ed6-8f36-4f4c-bf44-8ee0095a6b76"
      },
      "execution_count": 2,
      "outputs": [
        {
          "output_type": "stream",
          "name": "stdout",
          "text": [
            "ZIP file opened successfully.\n",
            "Extraction complete.\n"
          ]
        }
      ]
    },
    {
      "cell_type": "code",
      "source": [
        "\n",
        "# Check if GPU is available\n",
        "device = torch.device(\"cuda\" if torch.cuda.is_available() else \"cpu\")\n",
        "print(\"Using device:\", device)\n",
        "\n",
        "# Define constants\n",
        "data_dirs = {\n",
        "    'T4_Ptrain': [\"l0\", \"l1\", \"l2\"],\n",
        "    'T4_Ptest': [\"l0\", \"l1\", \"l2\"]\n",
        "}\n",
        "data_root = \"/content/T4_Pdata\"  # Replace with the root directory of your data\n",
        "\n",
        "# Create a list to store the paths and labels of all images\n",
        "train_data = []\n",
        "test_data = []\n",
        "\n",
        "# Populate the list with paths and labels\n",
        "for phase in data_dirs:\n",
        "    for label, folder in enumerate(data_dirs[phase]):\n",
        "        folder_path = os.path.join(data_root, phase, folder)\n",
        "        image_files = os.listdir(folder_path)\n",
        "        for image_file in image_files:\n",
        "            image_path = os.path.join(folder_path, image_file)\n",
        "            if phase == 'T4_Ptrain':\n",
        "                train_data.append((image_path, label))\n",
        "            else:\n",
        "                test_data.append((image_path, label))\n",
        "\n",
        "# Split train_data into training and validation sets while maintaining class distribution\n",
        "train_data, val_data = train_test_split(train_data, test_size=0.2, stratify=[label for _, label in train_data])\n",
        "\n",
        "# Define custom dataset class\n",
        "class CustomDataset(torch.utils.data.Dataset):\n",
        "    def __init__(self, data, transform=None):\n",
        "        self.data = data\n",
        "        self.transform = transform\n",
        "\n",
        "    def __len__(self):\n",
        "        return len(self.data)\n",
        "\n",
        "    def __getitem__(self, idx):\n",
        "        img_path, label = self.data[idx]\n",
        "        img = Image.open(img_path).convert('RGB')  # Open image and convert to RGB mode\n",
        "        if self.transform:\n",
        "            img = self.transform(img)\n",
        "        label_tensor = torch.tensor(label, dtype=torch.long)  # Convert label to tensor\n",
        "        return img, label_tensor\n",
        "\n",
        "# Image preprocessing with augmentation for training\n",
        "train_transform = transforms.Compose([\n",
        "    transforms.Resize((240, 240)),\n",
        "    transforms.RandomRotation(90),\n",
        "    transforms.RandomHorizontalFlip(),\n",
        "    transforms.RandomVerticalFlip(),\n",
        "    transforms.ToTensor()\n",
        "])\n",
        "\n",
        "# Image preprocessing without augmentation for testing and validation\n",
        "test_val_transform = transforms.Compose([\n",
        "    transforms.Resize((300, 300)),\n",
        "    transforms.ToTensor()\n",
        "])\n"
      ],
      "metadata": {
        "colab": {
          "base_uri": "https://localhost:8080/"
        },
        "id": "D1NfeveUXufU",
        "outputId": "d0e0a915-6681-4dd5-d88a-bd401d945241"
      },
      "execution_count": 4,
      "outputs": [
        {
          "output_type": "stream",
          "name": "stdout",
          "text": [
            "Using device: cuda\n"
          ]
        }
      ]
    },
    {
      "cell_type": "code",
      "source": [
        "\n",
        "# Create custom datasets\n",
        "train_dataset = CustomDataset(train_data, transform=train_transform)\n",
        "val_dataset = CustomDataset(val_data, transform=test_val_transform)\n",
        "test_dataset = CustomDataset(test_data, transform=test_val_transform)\n",
        "\n",
        "# DataLoaders for batching and shuffling\n",
        "batch_size = 32  # Define the batch size\n",
        "train_loader = DataLoader(train_dataset, batch_size=batch_size, shuffle=True)\n",
        "val_loader = DataLoader(val_dataset, batch_size=batch_size, shuffle=False)\n",
        "test_loader = DataLoader(test_dataset, batch_size=batch_size, shuffle=False)\n",
        "\n",
        "# Use DenseNet121 model\n",
        "model = timm.create_model(\"hf_hub:timm/densenet121.ra_in1k\", pretrained=True)\n",
        "\n",
        "# Unfreeze all layers\n",
        "for param in model.parameters():\n",
        "    param.requires_grad = True\n",
        "\n",
        "# Modify the final layer to match the number of classes in the dataset\n",
        "num_classes = len(data_dirs['T4_Ptrain'])\n",
        "model.classifier = nn.Linear(model.classifier.in_features, num_classes)\n",
        "\n",
        "model.to(device)  # Move model to GPU\n",
        "\n",
        "# Define optimizer and scheduler\n",
        "optimizer = optim.Adam(filter(lambda p: p.requires_grad, model.parameters()), lr=0.001)  # Set learning rate to 10^-3\n",
        "\n",
        "scheduler = ReduceLROnPlateau(optimizer, mode='min', factor=0.1, patience=10, verbose=True, min_lr=1e-6)  # Reduce factor, patience, and lower bound for LR\n",
        "\n",
        "# Define loss function\n",
        "criterion = nn.CrossEntropyLoss()\n"
      ],
      "metadata": {
        "colab": {
          "base_uri": "https://localhost:8080/"
        },
        "id": "CoQ9uIF9YDjR",
        "outputId": "25e371da-61a6-4f29-f833-6750346e99bf"
      },
      "execution_count": 6,
      "outputs": [
        {
          "output_type": "stream",
          "name": "stderr",
          "text": [
            "/usr/local/lib/python3.10/dist-packages/torch/optim/lr_scheduler.py:28: UserWarning: The verbose parameter is deprecated. Please use get_last_lr() to access the learning rate.\n",
            "  warnings.warn(\"The verbose parameter is deprecated. Please use get_last_lr() \"\n"
          ]
        }
      ]
    },
    {
      "cell_type": "code",
      "source": [
        "\n",
        "# Train the model\n",
        "num_epochs = 100  # Set number of epochs to 100\n",
        "\n",
        "# Lists to store training and validation losses and accuracies\n",
        "train_losses = []\n",
        "val_losses = []\n",
        "train_accuracies = []\n",
        "val_accuracies = []\n",
        "\n",
        "# Train the model\n",
        "for epoch in range(num_epochs):\n",
        "    model.train()\n",
        "    train_loss = 0.0\n",
        "    correct = 0\n",
        "    total = 0\n",
        "    progress_bar = tqdm(train_loader, desc=f'Epoch {epoch+1}/{num_epochs}', leave=False)\n",
        "    for images, labels in progress_bar:\n",
        "        images, labels = images.to(device), labels.to(device)  # Move data to GPU\n",
        "        optimizer.zero_grad()\n",
        "        # Ensure the input tensor is passed correctly\n",
        "        outputs = model(images)\n",
        "        loss = criterion(outputs, labels)\n",
        "        loss.backward()\n",
        "        optimizer.step()\n",
        "        train_loss += loss.item() * labels.size(0)\n",
        "        _, predicted = torch.max(outputs, 1)\n",
        "        total += labels.size(0)\n",
        "        correct += (predicted == labels).sum().item()\n",
        "        progress_bar.set_postfix({'Loss': train_loss / total, 'Accuracy': 100 * correct / total})\n",
        "\n",
        "    train_loss = train_loss / len(train_loader.dataset)\n",
        "    train_accuracy = 100 * correct / total\n",
        "    train_losses.append(train_loss)\n",
        "    train_accuracies.append(train_accuracy)\n",
        "\n",
        "    # Validation\n",
        "    model.eval()\n",
        "    val_loss = 0.0\n",
        "    correct = 0\n",
        "    total = 0\n",
        "    with torch.no_grad():\n",
        "        for images, labels in val_loader:\n",
        "            images, labels = images.to(device), labels.to(device)  # Move data to GPU\n",
        "            outputs = model(images)\n",
        "            loss = criterion(outputs, labels)\n",
        "            val_loss += loss.item() * labels.size(0)\n",
        "            _, predicted = torch.max(outputs, 1)\n",
        "            total += labels.size(0)\n",
        "            correct += (predicted == labels).sum().item()\n",
        "\n",
        "    val_loss = val_loss / len(val_loader.dataset)\n",
        "    val_accuracy = 100 * correct / total\n",
        "    val_losses.append(val_loss)\n",
        "    val_accuracies.append(val_accuracy)\n",
        "\n",
        "    print(f'Epoch {epoch+1}/{num_epochs}, '\n",
        "          f'Train Loss: {train_loss:.4f}, Train Accuracy: {train_accuracy:.2f}%, '\n",
        "          f'Val Loss: {val_loss:.4f}, Val Accuracy: {val_accuracy:.2f}%')\n",
        "\n",
        "    # Adjust learning rate\n",
        "    scheduler.step(val_loss)\n"
      ],
      "metadata": {
        "colab": {
          "base_uri": "https://localhost:8080/"
        },
        "id": "Rej9u8NeYKy6",
        "outputId": "f0176657-1ac6-45a8-b6bd-cd95c25f5a1f"
      },
      "execution_count": 7,
      "outputs": [
        {
          "output_type": "stream",
          "name": "stderr",
          "text": []
        },
        {
          "output_type": "stream",
          "name": "stdout",
          "text": [
            "Epoch 1/100, Train Loss: 0.8316, Train Accuracy: 61.60%, Val Loss: 0.8525, Val Accuracy: 59.55%\n"
          ]
        },
        {
          "output_type": "stream",
          "name": "stderr",
          "text": []
        },
        {
          "output_type": "stream",
          "name": "stdout",
          "text": [
            "Epoch 2/100, Train Loss: 0.7346, Train Accuracy: 66.07%, Val Loss: 0.8264, Val Accuracy: 60.35%\n"
          ]
        },
        {
          "output_type": "stream",
          "name": "stderr",
          "text": []
        },
        {
          "output_type": "stream",
          "name": "stdout",
          "text": [
            "Epoch 3/100, Train Loss: 0.6873, Train Accuracy: 69.18%, Val Loss: 0.9573, Val Accuracy: 58.60%\n"
          ]
        },
        {
          "output_type": "stream",
          "name": "stderr",
          "text": []
        },
        {
          "output_type": "stream",
          "name": "stdout",
          "text": [
            "Epoch 4/100, Train Loss: 0.6137, Train Accuracy: 72.21%, Val Loss: 0.6891, Val Accuracy: 71.02%\n"
          ]
        },
        {
          "output_type": "stream",
          "name": "stderr",
          "text": []
        },
        {
          "output_type": "stream",
          "name": "stdout",
          "text": [
            "Epoch 5/100, Train Loss: 0.5836, Train Accuracy: 74.32%, Val Loss: 0.7631, Val Accuracy: 65.13%\n"
          ]
        },
        {
          "output_type": "stream",
          "name": "stderr",
          "text": []
        },
        {
          "output_type": "stream",
          "name": "stdout",
          "text": [
            "Epoch 6/100, Train Loss: 0.5349, Train Accuracy: 76.75%, Val Loss: 0.6753, Val Accuracy: 69.11%\n"
          ]
        },
        {
          "output_type": "stream",
          "name": "stderr",
          "text": []
        },
        {
          "output_type": "stream",
          "name": "stdout",
          "text": [
            "Epoch 7/100, Train Loss: 0.5165, Train Accuracy: 77.11%, Val Loss: 0.6421, Val Accuracy: 71.66%\n"
          ]
        },
        {
          "output_type": "stream",
          "name": "stderr",
          "text": []
        },
        {
          "output_type": "stream",
          "name": "stdout",
          "text": [
            "Epoch 8/100, Train Loss: 0.5006, Train Accuracy: 79.03%, Val Loss: 0.9768, Val Accuracy: 58.28%\n"
          ]
        },
        {
          "output_type": "stream",
          "name": "stderr",
          "text": []
        },
        {
          "output_type": "stream",
          "name": "stdout",
          "text": [
            "Epoch 9/100, Train Loss: 0.4801, Train Accuracy: 80.82%, Val Loss: 0.6464, Val Accuracy: 67.52%\n"
          ]
        },
        {
          "output_type": "stream",
          "name": "stderr",
          "text": []
        },
        {
          "output_type": "stream",
          "name": "stdout",
          "text": [
            "Epoch 10/100, Train Loss: 0.4612, Train Accuracy: 80.74%, Val Loss: 0.6321, Val Accuracy: 72.61%\n"
          ]
        },
        {
          "output_type": "stream",
          "name": "stderr",
          "text": []
        },
        {
          "output_type": "stream",
          "name": "stdout",
          "text": [
            "Epoch 11/100, Train Loss: 0.4331, Train Accuracy: 82.14%, Val Loss: 0.5889, Val Accuracy: 75.32%\n"
          ]
        },
        {
          "output_type": "stream",
          "name": "stderr",
          "text": []
        },
        {
          "output_type": "stream",
          "name": "stdout",
          "text": [
            "Epoch 12/100, Train Loss: 0.4240, Train Accuracy: 82.46%, Val Loss: 0.7138, Val Accuracy: 71.66%\n"
          ]
        },
        {
          "output_type": "stream",
          "name": "stderr",
          "text": []
        },
        {
          "output_type": "stream",
          "name": "stdout",
          "text": [
            "Epoch 13/100, Train Loss: 0.4128, Train Accuracy: 83.53%, Val Loss: 1.1016, Val Accuracy: 42.99%\n"
          ]
        },
        {
          "output_type": "stream",
          "name": "stderr",
          "text": []
        },
        {
          "output_type": "stream",
          "name": "stdout",
          "text": [
            "Epoch 14/100, Train Loss: 0.3857, Train Accuracy: 84.09%, Val Loss: 0.5699, Val Accuracy: 76.43%\n"
          ]
        },
        {
          "output_type": "stream",
          "name": "stderr",
          "text": []
        },
        {
          "output_type": "stream",
          "name": "stdout",
          "text": [
            "Epoch 15/100, Train Loss: 0.3777, Train Accuracy: 84.13%, Val Loss: 0.9823, Val Accuracy: 53.03%\n"
          ]
        },
        {
          "output_type": "stream",
          "name": "stderr",
          "text": []
        },
        {
          "output_type": "stream",
          "name": "stdout",
          "text": [
            "Epoch 16/100, Train Loss: 0.3522, Train Accuracy: 86.16%, Val Loss: 0.6915, Val Accuracy: 74.04%\n"
          ]
        },
        {
          "output_type": "stream",
          "name": "stderr",
          "text": []
        },
        {
          "output_type": "stream",
          "name": "stdout",
          "text": [
            "Epoch 17/100, Train Loss: 0.3463, Train Accuracy: 86.60%, Val Loss: 0.5626, Val Accuracy: 76.27%\n"
          ]
        },
        {
          "output_type": "stream",
          "name": "stderr",
          "text": []
        },
        {
          "output_type": "stream",
          "name": "stdout",
          "text": [
            "Epoch 18/100, Train Loss: 0.3255, Train Accuracy: 86.92%, Val Loss: 0.7471, Val Accuracy: 71.02%\n"
          ]
        },
        {
          "output_type": "stream",
          "name": "stderr",
          "text": []
        },
        {
          "output_type": "stream",
          "name": "stdout",
          "text": [
            "Epoch 19/100, Train Loss: 0.3274, Train Accuracy: 86.84%, Val Loss: 0.6081, Val Accuracy: 72.61%\n"
          ]
        },
        {
          "output_type": "stream",
          "name": "stderr",
          "text": []
        },
        {
          "output_type": "stream",
          "name": "stdout",
          "text": [
            "Epoch 20/100, Train Loss: 0.3173, Train Accuracy: 86.84%, Val Loss: 0.5154, Val Accuracy: 79.62%\n"
          ]
        },
        {
          "output_type": "stream",
          "name": "stderr",
          "text": []
        },
        {
          "output_type": "stream",
          "name": "stdout",
          "text": [
            "Epoch 21/100, Train Loss: 0.3423, Train Accuracy: 86.52%, Val Loss: 0.5394, Val Accuracy: 79.30%\n"
          ]
        },
        {
          "output_type": "stream",
          "name": "stderr",
          "text": []
        },
        {
          "output_type": "stream",
          "name": "stdout",
          "text": [
            "Epoch 22/100, Train Loss: 0.2802, Train Accuracy: 88.52%, Val Loss: 0.7138, Val Accuracy: 74.52%\n"
          ]
        },
        {
          "output_type": "stream",
          "name": "stderr",
          "text": []
        },
        {
          "output_type": "stream",
          "name": "stdout",
          "text": [
            "Epoch 23/100, Train Loss: 0.2815, Train Accuracy: 88.64%, Val Loss: 0.5502, Val Accuracy: 81.53%\n"
          ]
        },
        {
          "output_type": "stream",
          "name": "stderr",
          "text": []
        },
        {
          "output_type": "stream",
          "name": "stdout",
          "text": [
            "Epoch 24/100, Train Loss: 0.2924, Train Accuracy: 88.40%, Val Loss: 0.5343, Val Accuracy: 77.71%\n"
          ]
        },
        {
          "output_type": "stream",
          "name": "stderr",
          "text": []
        },
        {
          "output_type": "stream",
          "name": "stdout",
          "text": [
            "Epoch 25/100, Train Loss: 0.2392, Train Accuracy: 90.35%, Val Loss: 0.6176, Val Accuracy: 75.80%\n"
          ]
        },
        {
          "output_type": "stream",
          "name": "stderr",
          "text": []
        },
        {
          "output_type": "stream",
          "name": "stdout",
          "text": [
            "Epoch 26/100, Train Loss: 0.2460, Train Accuracy: 90.23%, Val Loss: 0.4443, Val Accuracy: 84.39%\n"
          ]
        },
        {
          "output_type": "stream",
          "name": "stderr",
          "text": []
        },
        {
          "output_type": "stream",
          "name": "stdout",
          "text": [
            "Epoch 27/100, Train Loss: 0.2515, Train Accuracy: 89.99%, Val Loss: 0.7718, Val Accuracy: 70.54%\n"
          ]
        },
        {
          "output_type": "stream",
          "name": "stderr",
          "text": []
        },
        {
          "output_type": "stream",
          "name": "stdout",
          "text": [
            "Epoch 28/100, Train Loss: 0.2362, Train Accuracy: 91.19%, Val Loss: 0.9444, Val Accuracy: 74.04%\n"
          ]
        },
        {
          "output_type": "stream",
          "name": "stderr",
          "text": []
        },
        {
          "output_type": "stream",
          "name": "stdout",
          "text": [
            "Epoch 29/100, Train Loss: 0.2336, Train Accuracy: 90.51%, Val Loss: 0.5242, Val Accuracy: 82.32%\n"
          ]
        },
        {
          "output_type": "stream",
          "name": "stderr",
          "text": []
        },
        {
          "output_type": "stream",
          "name": "stdout",
          "text": [
            "Epoch 30/100, Train Loss: 0.2126, Train Accuracy: 91.71%, Val Loss: 0.7288, Val Accuracy: 74.36%\n"
          ]
        },
        {
          "output_type": "stream",
          "name": "stderr",
          "text": []
        },
        {
          "output_type": "stream",
          "name": "stdout",
          "text": [
            "Epoch 31/100, Train Loss: 0.2309, Train Accuracy: 90.95%, Val Loss: 0.4537, Val Accuracy: 83.92%\n"
          ]
        },
        {
          "output_type": "stream",
          "name": "stderr",
          "text": []
        },
        {
          "output_type": "stream",
          "name": "stdout",
          "text": [
            "Epoch 32/100, Train Loss: 0.2169, Train Accuracy: 91.59%, Val Loss: 0.5052, Val Accuracy: 81.85%\n"
          ]
        },
        {
          "output_type": "stream",
          "name": "stderr",
          "text": []
        },
        {
          "output_type": "stream",
          "name": "stdout",
          "text": [
            "Epoch 33/100, Train Loss: 0.2153, Train Accuracy: 91.79%, Val Loss: 0.9415, Val Accuracy: 70.38%\n"
          ]
        },
        {
          "output_type": "stream",
          "name": "stderr",
          "text": []
        },
        {
          "output_type": "stream",
          "name": "stdout",
          "text": [
            "Epoch 34/100, Train Loss: 0.2234, Train Accuracy: 91.99%, Val Loss: 0.8347, Val Accuracy: 72.93%\n"
          ]
        },
        {
          "output_type": "stream",
          "name": "stderr",
          "text": []
        },
        {
          "output_type": "stream",
          "name": "stdout",
          "text": [
            "Epoch 35/100, Train Loss: 0.1935, Train Accuracy: 93.06%, Val Loss: 0.5424, Val Accuracy: 83.44%\n"
          ]
        },
        {
          "output_type": "stream",
          "name": "stderr",
          "text": []
        },
        {
          "output_type": "stream",
          "name": "stdout",
          "text": [
            "Epoch 36/100, Train Loss: 0.1753, Train Accuracy: 94.26%, Val Loss: 0.4729, Val Accuracy: 82.64%\n"
          ]
        },
        {
          "output_type": "stream",
          "name": "stderr",
          "text": []
        },
        {
          "output_type": "stream",
          "name": "stdout",
          "text": [
            "Epoch 37/100, Train Loss: 0.1953, Train Accuracy: 92.70%, Val Loss: 0.7523, Val Accuracy: 77.07%\n"
          ]
        },
        {
          "output_type": "stream",
          "name": "stderr",
          "text": []
        },
        {
          "output_type": "stream",
          "name": "stdout",
          "text": [
            "Epoch 38/100, Train Loss: 0.1397, Train Accuracy: 94.74%, Val Loss: 0.4329, Val Accuracy: 86.78%\n"
          ]
        },
        {
          "output_type": "stream",
          "name": "stderr",
          "text": []
        },
        {
          "output_type": "stream",
          "name": "stdout",
          "text": [
            "Epoch 39/100, Train Loss: 0.1013, Train Accuracy: 96.41%, Val Loss: 0.3912, Val Accuracy: 88.22%\n"
          ]
        },
        {
          "output_type": "stream",
          "name": "stderr",
          "text": []
        },
        {
          "output_type": "stream",
          "name": "stdout",
          "text": [
            "Epoch 40/100, Train Loss: 0.0998, Train Accuracy: 96.41%, Val Loss: 0.3755, Val Accuracy: 88.54%\n"
          ]
        },
        {
          "output_type": "stream",
          "name": "stderr",
          "text": []
        },
        {
          "output_type": "stream",
          "name": "stdout",
          "text": [
            "Epoch 41/100, Train Loss: 0.0895, Train Accuracy: 96.93%, Val Loss: 0.3954, Val Accuracy: 88.22%\n"
          ]
        },
        {
          "output_type": "stream",
          "name": "stderr",
          "text": []
        },
        {
          "output_type": "stream",
          "name": "stdout",
          "text": [
            "Epoch 42/100, Train Loss: 0.0738, Train Accuracy: 97.53%, Val Loss: 0.3672, Val Accuracy: 89.81%\n"
          ]
        },
        {
          "output_type": "stream",
          "name": "stderr",
          "text": []
        },
        {
          "output_type": "stream",
          "name": "stdout",
          "text": [
            "Epoch 43/100, Train Loss: 0.0777, Train Accuracy: 97.33%, Val Loss: 0.3940, Val Accuracy: 88.69%\n"
          ]
        },
        {
          "output_type": "stream",
          "name": "stderr",
          "text": []
        },
        {
          "output_type": "stream",
          "name": "stdout",
          "text": [
            "Epoch 44/100, Train Loss: 0.0749, Train Accuracy: 97.33%, Val Loss: 0.4024, Val Accuracy: 88.85%\n"
          ]
        },
        {
          "output_type": "stream",
          "name": "stderr",
          "text": []
        },
        {
          "output_type": "stream",
          "name": "stdout",
          "text": [
            "Epoch 45/100, Train Loss: 0.0696, Train Accuracy: 97.69%, Val Loss: 0.3852, Val Accuracy: 89.01%\n"
          ]
        },
        {
          "output_type": "stream",
          "name": "stderr",
          "text": []
        },
        {
          "output_type": "stream",
          "name": "stdout",
          "text": [
            "Epoch 46/100, Train Loss: 0.0700, Train Accuracy: 97.69%, Val Loss: 0.3915, Val Accuracy: 89.33%\n"
          ]
        },
        {
          "output_type": "stream",
          "name": "stderr",
          "text": []
        },
        {
          "output_type": "stream",
          "name": "stdout",
          "text": [
            "Epoch 47/100, Train Loss: 0.0655, Train Accuracy: 97.69%, Val Loss: 0.4127, Val Accuracy: 89.81%\n"
          ]
        },
        {
          "output_type": "stream",
          "name": "stderr",
          "text": []
        },
        {
          "output_type": "stream",
          "name": "stdout",
          "text": [
            "Epoch 48/100, Train Loss: 0.0667, Train Accuracy: 97.69%, Val Loss: 0.4237, Val Accuracy: 89.17%\n"
          ]
        },
        {
          "output_type": "stream",
          "name": "stderr",
          "text": []
        },
        {
          "output_type": "stream",
          "name": "stdout",
          "text": [
            "Epoch 49/100, Train Loss: 0.0574, Train Accuracy: 97.97%, Val Loss: 0.4153, Val Accuracy: 89.65%\n"
          ]
        },
        {
          "output_type": "stream",
          "name": "stderr",
          "text": []
        },
        {
          "output_type": "stream",
          "name": "stdout",
          "text": [
            "Epoch 50/100, Train Loss: 0.0597, Train Accuracy: 97.93%, Val Loss: 0.4643, Val Accuracy: 89.33%\n"
          ]
        },
        {
          "output_type": "stream",
          "name": "stderr",
          "text": []
        },
        {
          "output_type": "stream",
          "name": "stdout",
          "text": [
            "Epoch 51/100, Train Loss: 0.0560, Train Accuracy: 98.37%, Val Loss: 0.4383, Val Accuracy: 88.69%\n"
          ]
        },
        {
          "output_type": "stream",
          "name": "stderr",
          "text": []
        },
        {
          "output_type": "stream",
          "name": "stdout",
          "text": [
            "Epoch 52/100, Train Loss: 0.0602, Train Accuracy: 97.85%, Val Loss: 0.4434, Val Accuracy: 88.06%\n"
          ]
        },
        {
          "output_type": "stream",
          "name": "stderr",
          "text": []
        },
        {
          "output_type": "stream",
          "name": "stdout",
          "text": [
            "Epoch 53/100, Train Loss: 0.0540, Train Accuracy: 98.21%, Val Loss: 0.4622, Val Accuracy: 88.22%\n"
          ]
        },
        {
          "output_type": "stream",
          "name": "stderr",
          "text": []
        },
        {
          "output_type": "stream",
          "name": "stdout",
          "text": [
            "Epoch 54/100, Train Loss: 0.0526, Train Accuracy: 98.41%, Val Loss: 0.4385, Val Accuracy: 89.17%\n"
          ]
        },
        {
          "output_type": "stream",
          "name": "stderr",
          "text": []
        },
        {
          "output_type": "stream",
          "name": "stdout",
          "text": [
            "Epoch 55/100, Train Loss: 0.0461, Train Accuracy: 98.56%, Val Loss: 0.4276, Val Accuracy: 89.81%\n"
          ]
        },
        {
          "output_type": "stream",
          "name": "stderr",
          "text": []
        },
        {
          "output_type": "stream",
          "name": "stdout",
          "text": [
            "Epoch 56/100, Train Loss: 0.0461, Train Accuracy: 98.56%, Val Loss: 0.4532, Val Accuracy: 89.33%\n"
          ]
        },
        {
          "output_type": "stream",
          "name": "stderr",
          "text": []
        },
        {
          "output_type": "stream",
          "name": "stdout",
          "text": [
            "Epoch 57/100, Train Loss: 0.0451, Train Accuracy: 98.72%, Val Loss: 0.4355, Val Accuracy: 89.33%\n"
          ]
        },
        {
          "output_type": "stream",
          "name": "stderr",
          "text": []
        },
        {
          "output_type": "stream",
          "name": "stdout",
          "text": [
            "Epoch 58/100, Train Loss: 0.0519, Train Accuracy: 98.13%, Val Loss: 0.4399, Val Accuracy: 88.38%\n"
          ]
        },
        {
          "output_type": "stream",
          "name": "stderr",
          "text": []
        },
        {
          "output_type": "stream",
          "name": "stdout",
          "text": [
            "Epoch 59/100, Train Loss: 0.0457, Train Accuracy: 98.48%, Val Loss: 0.4412, Val Accuracy: 88.69%\n"
          ]
        },
        {
          "output_type": "stream",
          "name": "stderr",
          "text": []
        },
        {
          "output_type": "stream",
          "name": "stdout",
          "text": [
            "Epoch 60/100, Train Loss: 0.0510, Train Accuracy: 98.21%, Val Loss: 0.4436, Val Accuracy: 87.90%\n"
          ]
        },
        {
          "output_type": "stream",
          "name": "stderr",
          "text": []
        },
        {
          "output_type": "stream",
          "name": "stdout",
          "text": [
            "Epoch 61/100, Train Loss: 0.0471, Train Accuracy: 98.21%, Val Loss: 0.4275, Val Accuracy: 89.33%\n"
          ]
        },
        {
          "output_type": "stream",
          "name": "stderr",
          "text": []
        },
        {
          "output_type": "stream",
          "name": "stdout",
          "text": [
            "Epoch 62/100, Train Loss: 0.0442, Train Accuracy: 98.80%, Val Loss: 0.4186, Val Accuracy: 89.49%\n"
          ]
        },
        {
          "output_type": "stream",
          "name": "stderr",
          "text": []
        },
        {
          "output_type": "stream",
          "name": "stdout",
          "text": [
            "Epoch 63/100, Train Loss: 0.0435, Train Accuracy: 98.60%, Val Loss: 0.4316, Val Accuracy: 89.01%\n"
          ]
        },
        {
          "output_type": "stream",
          "name": "stderr",
          "text": []
        },
        {
          "output_type": "stream",
          "name": "stdout",
          "text": [
            "Epoch 64/100, Train Loss: 0.0464, Train Accuracy: 98.56%, Val Loss: 0.4423, Val Accuracy: 89.01%\n"
          ]
        },
        {
          "output_type": "stream",
          "name": "stderr",
          "text": []
        },
        {
          "output_type": "stream",
          "name": "stdout",
          "text": [
            "Epoch 65/100, Train Loss: 0.0401, Train Accuracy: 98.72%, Val Loss: 0.4634, Val Accuracy: 88.38%\n"
          ]
        },
        {
          "output_type": "stream",
          "name": "stderr",
          "text": []
        },
        {
          "output_type": "stream",
          "name": "stdout",
          "text": [
            "Epoch 66/100, Train Loss: 0.0432, Train Accuracy: 98.44%, Val Loss: 0.4581, Val Accuracy: 88.38%\n"
          ]
        },
        {
          "output_type": "stream",
          "name": "stderr",
          "text": []
        },
        {
          "output_type": "stream",
          "name": "stdout",
          "text": [
            "Epoch 67/100, Train Loss: 0.0429, Train Accuracy: 98.60%, Val Loss: 0.4331, Val Accuracy: 89.17%\n"
          ]
        },
        {
          "output_type": "stream",
          "name": "stderr",
          "text": []
        },
        {
          "output_type": "stream",
          "name": "stdout",
          "text": [
            "Epoch 68/100, Train Loss: 0.0460, Train Accuracy: 98.44%, Val Loss: 0.4268, Val Accuracy: 89.33%\n"
          ]
        },
        {
          "output_type": "stream",
          "name": "stderr",
          "text": []
        },
        {
          "output_type": "stream",
          "name": "stdout",
          "text": [
            "Epoch 69/100, Train Loss: 0.0438, Train Accuracy: 98.64%, Val Loss: 0.4375, Val Accuracy: 88.54%\n"
          ]
        },
        {
          "output_type": "stream",
          "name": "stderr",
          "text": []
        },
        {
          "output_type": "stream",
          "name": "stdout",
          "text": [
            "Epoch 70/100, Train Loss: 0.0387, Train Accuracy: 98.80%, Val Loss: 0.4398, Val Accuracy: 89.33%\n"
          ]
        },
        {
          "output_type": "stream",
          "name": "stderr",
          "text": []
        },
        {
          "output_type": "stream",
          "name": "stdout",
          "text": [
            "Epoch 71/100, Train Loss: 0.0433, Train Accuracy: 98.56%, Val Loss: 0.4311, Val Accuracy: 88.69%\n"
          ]
        },
        {
          "output_type": "stream",
          "name": "stderr",
          "text": []
        },
        {
          "output_type": "stream",
          "name": "stdout",
          "text": [
            "Epoch 72/100, Train Loss: 0.0421, Train Accuracy: 98.68%, Val Loss: 0.4501, Val Accuracy: 89.17%\n"
          ]
        },
        {
          "output_type": "stream",
          "name": "stderr",
          "text": []
        },
        {
          "output_type": "stream",
          "name": "stdout",
          "text": [
            "Epoch 73/100, Train Loss: 0.0397, Train Accuracy: 98.88%, Val Loss: 0.4151, Val Accuracy: 88.69%\n"
          ]
        },
        {
          "output_type": "stream",
          "name": "stderr",
          "text": []
        },
        {
          "output_type": "stream",
          "name": "stdout",
          "text": [
            "Epoch 74/100, Train Loss: 0.0410, Train Accuracy: 98.72%, Val Loss: 0.4323, Val Accuracy: 89.01%\n"
          ]
        },
        {
          "output_type": "stream",
          "name": "stderr",
          "text": []
        },
        {
          "output_type": "stream",
          "name": "stdout",
          "text": [
            "Epoch 75/100, Train Loss: 0.0445, Train Accuracy: 98.52%, Val Loss: 0.4339, Val Accuracy: 89.01%\n"
          ]
        },
        {
          "output_type": "stream",
          "name": "stderr",
          "text": []
        },
        {
          "output_type": "stream",
          "name": "stdout",
          "text": [
            "Epoch 76/100, Train Loss: 0.0490, Train Accuracy: 98.13%, Val Loss: 0.4195, Val Accuracy: 89.49%\n"
          ]
        },
        {
          "output_type": "stream",
          "name": "stderr",
          "text": []
        },
        {
          "output_type": "stream",
          "name": "stdout",
          "text": [
            "Epoch 77/100, Train Loss: 0.0421, Train Accuracy: 98.68%, Val Loss: 0.4298, Val Accuracy: 89.01%\n"
          ]
        },
        {
          "output_type": "stream",
          "name": "stderr",
          "text": []
        },
        {
          "output_type": "stream",
          "name": "stdout",
          "text": [
            "Epoch 78/100, Train Loss: 0.0394, Train Accuracy: 98.80%, Val Loss: 0.4499, Val Accuracy: 88.69%\n"
          ]
        },
        {
          "output_type": "stream",
          "name": "stderr",
          "text": []
        },
        {
          "output_type": "stream",
          "name": "stdout",
          "text": [
            "Epoch 79/100, Train Loss: 0.0433, Train Accuracy: 98.84%, Val Loss: 0.4315, Val Accuracy: 89.17%\n"
          ]
        },
        {
          "output_type": "stream",
          "name": "stderr",
          "text": []
        },
        {
          "output_type": "stream",
          "name": "stdout",
          "text": [
            "Epoch 80/100, Train Loss: 0.0424, Train Accuracy: 98.92%, Val Loss: 0.4062, Val Accuracy: 89.01%\n"
          ]
        },
        {
          "output_type": "stream",
          "name": "stderr",
          "text": []
        },
        {
          "output_type": "stream",
          "name": "stdout",
          "text": [
            "Epoch 81/100, Train Loss: 0.0467, Train Accuracy: 98.37%, Val Loss: 0.4534, Val Accuracy: 88.85%\n"
          ]
        },
        {
          "output_type": "stream",
          "name": "stderr",
          "text": []
        },
        {
          "output_type": "stream",
          "name": "stdout",
          "text": [
            "Epoch 82/100, Train Loss: 0.0353, Train Accuracy: 98.88%, Val Loss: 0.4388, Val Accuracy: 89.01%\n"
          ]
        },
        {
          "output_type": "stream",
          "name": "stderr",
          "text": []
        },
        {
          "output_type": "stream",
          "name": "stdout",
          "text": [
            "Epoch 83/100, Train Loss: 0.0403, Train Accuracy: 98.76%, Val Loss: 0.4138, Val Accuracy: 89.65%\n"
          ]
        },
        {
          "output_type": "stream",
          "name": "stderr",
          "text": []
        },
        {
          "output_type": "stream",
          "name": "stdout",
          "text": [
            "Epoch 84/100, Train Loss: 0.0500, Train Accuracy: 98.52%, Val Loss: 0.4646, Val Accuracy: 89.01%\n"
          ]
        },
        {
          "output_type": "stream",
          "name": "stderr",
          "text": []
        },
        {
          "output_type": "stream",
          "name": "stdout",
          "text": [
            "Epoch 85/100, Train Loss: 0.0384, Train Accuracy: 98.88%, Val Loss: 0.4547, Val Accuracy: 88.85%\n"
          ]
        },
        {
          "output_type": "stream",
          "name": "stderr",
          "text": []
        },
        {
          "output_type": "stream",
          "name": "stdout",
          "text": [
            "Epoch 86/100, Train Loss: 0.0423, Train Accuracy: 98.41%, Val Loss: 0.4590, Val Accuracy: 88.38%\n"
          ]
        },
        {
          "output_type": "stream",
          "name": "stderr",
          "text": []
        },
        {
          "output_type": "stream",
          "name": "stdout",
          "text": [
            "Epoch 87/100, Train Loss: 0.0413, Train Accuracy: 98.76%, Val Loss: 0.4286, Val Accuracy: 88.85%\n"
          ]
        },
        {
          "output_type": "stream",
          "name": "stderr",
          "text": []
        },
        {
          "output_type": "stream",
          "name": "stdout",
          "text": [
            "Epoch 88/100, Train Loss: 0.0369, Train Accuracy: 98.84%, Val Loss: 0.4692, Val Accuracy: 88.54%\n"
          ]
        },
        {
          "output_type": "stream",
          "name": "stderr",
          "text": []
        },
        {
          "output_type": "stream",
          "name": "stdout",
          "text": [
            "Epoch 89/100, Train Loss: 0.0445, Train Accuracy: 98.44%, Val Loss: 0.4519, Val Accuracy: 88.22%\n"
          ]
        },
        {
          "output_type": "stream",
          "name": "stderr",
          "text": []
        },
        {
          "output_type": "stream",
          "name": "stdout",
          "text": [
            "Epoch 90/100, Train Loss: 0.0476, Train Accuracy: 98.68%, Val Loss: 0.4655, Val Accuracy: 88.69%\n"
          ]
        },
        {
          "output_type": "stream",
          "name": "stderr",
          "text": []
        },
        {
          "output_type": "stream",
          "name": "stdout",
          "text": [
            "Epoch 91/100, Train Loss: 0.0380, Train Accuracy: 98.72%, Val Loss: 0.4433, Val Accuracy: 89.65%\n"
          ]
        },
        {
          "output_type": "stream",
          "name": "stderr",
          "text": []
        },
        {
          "output_type": "stream",
          "name": "stdout",
          "text": [
            "Epoch 92/100, Train Loss: 0.0423, Train Accuracy: 98.72%, Val Loss: 0.4477, Val Accuracy: 88.54%\n"
          ]
        },
        {
          "output_type": "stream",
          "name": "stderr",
          "text": []
        },
        {
          "output_type": "stream",
          "name": "stdout",
          "text": [
            "Epoch 93/100, Train Loss: 0.0421, Train Accuracy: 98.88%, Val Loss: 0.4304, Val Accuracy: 88.85%\n"
          ]
        },
        {
          "output_type": "stream",
          "name": "stderr",
          "text": []
        },
        {
          "output_type": "stream",
          "name": "stdout",
          "text": [
            "Epoch 94/100, Train Loss: 0.0429, Train Accuracy: 98.68%, Val Loss: 0.4258, Val Accuracy: 89.01%\n"
          ]
        },
        {
          "output_type": "stream",
          "name": "stderr",
          "text": []
        },
        {
          "output_type": "stream",
          "name": "stdout",
          "text": [
            "Epoch 95/100, Train Loss: 0.0523, Train Accuracy: 98.13%, Val Loss: 0.4503, Val Accuracy: 88.38%\n"
          ]
        },
        {
          "output_type": "stream",
          "name": "stderr",
          "text": []
        },
        {
          "output_type": "stream",
          "name": "stdout",
          "text": [
            "Epoch 96/100, Train Loss: 0.0393, Train Accuracy: 99.12%, Val Loss: 0.4541, Val Accuracy: 88.85%\n"
          ]
        },
        {
          "output_type": "stream",
          "name": "stderr",
          "text": []
        },
        {
          "output_type": "stream",
          "name": "stdout",
          "text": [
            "Epoch 97/100, Train Loss: 0.0443, Train Accuracy: 98.56%, Val Loss: 0.4533, Val Accuracy: 89.01%\n"
          ]
        },
        {
          "output_type": "stream",
          "name": "stderr",
          "text": []
        },
        {
          "output_type": "stream",
          "name": "stdout",
          "text": [
            "Epoch 98/100, Train Loss: 0.0421, Train Accuracy: 98.68%, Val Loss: 0.4519, Val Accuracy: 88.69%\n"
          ]
        },
        {
          "output_type": "stream",
          "name": "stderr",
          "text": []
        },
        {
          "output_type": "stream",
          "name": "stdout",
          "text": [
            "Epoch 99/100, Train Loss: 0.0447, Train Accuracy: 98.44%, Val Loss: 0.4274, Val Accuracy: 89.01%\n"
          ]
        },
        {
          "output_type": "stream",
          "name": "stderr",
          "text": []
        },
        {
          "output_type": "stream",
          "name": "stdout",
          "text": [
            "Epoch 100/100, Train Loss: 0.0386, Train Accuracy: 98.92%, Val Loss: 0.4315, Val Accuracy: 88.85%\n"
          ]
        }
      ]
    },
    {
      "cell_type": "code",
      "source": [
        "\n",
        "# Plotting training and validation losses and accuracies\n",
        "epochs = range(1, len(train_losses) + 1)\n",
        "plt.figure(figsize=(14, 6))\n",
        "\n",
        "plt.subplot(1, 2, 1)\n",
        "plt.plot(epochs, train_losses, label='Train Loss')\n",
        "plt.plot(epochs, val_losses, label='Val Loss')\n",
        "plt.xlabel('Epochs')\n",
        "plt.ylabel('Loss')\n",
        "plt.title('Training and Validation Loss')\n",
        "plt.legend()\n",
        "\n",
        "plt.subplot(1, 2, 2)\n",
        "plt.plot(epochs, train_accuracies, label='Train Accuracy')\n",
        "plt.plot(epochs, val_accuracies, label='Val Accuracy')\n",
        "plt.xlabel('Epochs')\n",
        "plt.ylabel('Accuracy')\n",
        "plt.title('Training and Validation Accuracy')\n",
        "plt.legend()\n",
        "\n",
        "plt.show()\n",
        "\n",
        "# Test the model\n",
        "model.eval()\n",
        "test_correct = 0\n",
        "test_total = 0\n",
        "with torch.no_grad():\n",
        "    for images, labels in test_loader:\n",
        "        images, labels = images.to(device), labels.to(device)  # Move data to GPU\n",
        "        outputs = model(images)\n",
        "        _, predicted = torch.max(outputs, 1)\n",
        "        test_total += labels.size(0)\n",
        "        test_correct += (predicted == labels).sum().item()\n",
        "\n",
        "test_accuracy = 100 * test_correct / test_total\n",
        "print(f'Test Accuracy: {test_accuracy:.2f}%')\n",
        "\n",
        "# Evaluate the model on the test set\n",
        "model.eval()\n",
        "predictions = []\n",
        "true_labels = []\n",
        "\n",
        "with torch.no_grad():\n",
        "    for images, labels in test_loader:\n",
        "        images, labels = images.to(device), labels.to(device)\n",
        "        outputs = model(images)\n",
        "        _, predicted = torch.max(outputs, 1)\n",
        "        predictions.extend(predicted)\n",
        "        true_labels.extend(labels)\n",
        "\n",
        "# Generate classification report\n",
        "true_labels = torch.tensor(true_labels).cpu().numpy()\n",
        "predictions = torch.tensor(predictions).cpu().numpy()\n",
        "report = classification_report(true_labels, predictions, target_names=[f\"Class {i}\" for i in range(num_classes)])\n",
        "print(report)\n"
      ],
      "metadata": {
        "colab": {
          "base_uri": "https://localhost:8080/",
          "height": 734
        },
        "id": "uRmRS6zSYSuD",
        "outputId": "896be23c-3e43-49ec-91f1-add64ae9238e"
      },
      "execution_count": 8,
      "outputs": [
        {
          "output_type": "display_data",
          "data": {
            "text/plain": [
              "<Figure size 1400x600 with 2 Axes>"
            ],
            "image/png": "[encoded data removed]"
          },
          "metadata": {}
        },
        {
          "output_type": "stream",
          "name": "stdout",
          "text": [
            "Test Accuracy: 87.56%\n",
            "              precision    recall  f1-score   support\n",
            "\n",
            "     Class 0       0.74      0.88      0.81       118\n",
            "     Class 1       0.92      0.94      0.93       187\n",
            "     Class 2       0.91      0.84      0.87       322\n",
            "\n",
            "    accuracy                           0.88       627\n",
            "   macro avg       0.86      0.89      0.87       627\n",
            "weighted avg       0.88      0.88      0.88       627\n",
            "\n"
          ]
        }
      ]
    },
    {
      "cell_type": "code",
      "source": [
        "from sklearn.metrics import confusion_matrix, classification_report, balanced_accuracy_score\n",
        "import numpy as np\n",
        "\n",
        "# Generate classification report and confusion matrix\n",
        "print(\"Classification Report:\")\n",
        "print(classification_report(true_labels, predictions, target_names=[f\"Class {i}\" for i in range(num_classes)]))\n",
        "\n",
        "cm = confusion_matrix(true_labels, predictions)\n",
        "print(\"Confusion Matrix:\")\n",
        "print(cm)\n",
        "\n",
        "# Calculate per-class metrics\n",
        "TP = np.diag(cm)\n",
        "FP = np.sum(cm, axis=0) - TP\n",
        "FN = np.sum(cm, axis=1) - TP\n",
        "TN = np.sum(cm) - (FP + FN + TP)\n",
        "\n",
        "recall = TP / (TP + FN)\n",
        "specificity = TN / (TN + FP)\n",
        "precision = TP / (TP + FP)\n",
        "f1_score = 2 * precision * recall / (precision + recall)\n",
        "\n",
        "# Calculate macro-averaged metrics\n",
        "macro_recall = np.mean(recall)\n",
        "macro_precision = np.mean(precision)\n",
        "macro_f1_score = np.mean(f1_score)\n",
        "accuracy = np.sum(TP) / np.sum(cm)\n",
        "balanced_accuracy = balanced_accuracy_score(true_labels, predictions)\n",
        "custom_balanced_accuracy = np.mean((recall + specificity) / 2)\n",
        "\n",
        "# Print class-wise metrics\n",
        "print(\"\\nClass-wise Metrics:\")\n",
        "for i in range(len(TP)):\n",
        "    print(f\"Class {i}:\")\n",
        "    print(f\"  TP: {TP[i]}\")\n",
        "    print(f\"  TN: {TN[i]}\")\n",
        "    print(f\"  FP: {FP[i]}\")\n",
        "    print(f\"  FN: {FN[i]}\")\n",
        "    print(f\"  Recall: {recall[i]:.3f}\")\n",
        "    print(f\"  Specificity: {specificity[i]:.3f}\")\n",
        "    print(f\"  Precision: {precision[i]:.3f}\")\n",
        "    print(f\"  F1-score: {f1_score[i]:.3f}\")\n",
        "\n",
        "# Print macro-averaged metrics\n",
        "print(\"\\nMacro-averaged Metrics:\")\n",
        "print(f\"Macro Recall: {macro_recall:.3f}\")\n",
        "print(f\"Macro Precision: {macro_precision:.3f}\")\n",
        "print(f\"Macro F1-score: {macro_f1_score:.3f}\")\n",
        "print(f\"Accuracy (ACC): {accuracy:.3f}\")\n",
        "print(f\"Balanced Accuracy (BAC): {balanced_accuracy:.3f}\")\n",
        "print(f\"Custom Balanced Accuracy (BCC): {custom_balanced_accuracy:.3f}\")\n"
      ],
      "metadata": {
        "colab": {
          "base_uri": "https://localhost:8080/"
        },
        "id": "Xn35x8ZzYWcL",
        "outputId": "ca6edd18-6cd1-4501-b906-c8e5383e8e18"
      },
      "execution_count": 9,
      "outputs": [
        {
          "output_type": "stream",
          "name": "stdout",
          "text": [
            "Classification Report:\n",
            "              precision    recall  f1-score   support\n",
            "\n",
            "     Class 0       0.74      0.88      0.81       118\n",
            "     Class 1       0.92      0.94      0.93       187\n",
            "     Class 2       0.91      0.84      0.87       322\n",
            "\n",
            "    accuracy                           0.88       627\n",
            "   macro avg       0.86      0.89      0.87       627\n",
            "weighted avg       0.88      0.88      0.88       627\n",
            "\n",
            "Confusion Matrix:\n",
            "[[104   0  14]\n",
            " [  0 175  12]\n",
            " [ 36  16 270]]\n",
            "\n",
            "Class-wise Metrics:\n",
            "Class 0:\n",
            "  TP: 104\n",
            "  TN: 473\n",
            "  FP: 36\n",
            "  FN: 14\n",
            "  Recall: 0.881\n",
            "  Specificity: 0.929\n",
            "  Precision: 0.743\n",
            "  F1-score: 0.806\n",
            "Class 1:\n",
            "  TP: 175\n",
            "  TN: 424\n",
            "  FP: 16\n",
            "  FN: 12\n",
            "  Recall: 0.936\n",
            "  Specificity: 0.964\n",
            "  Precision: 0.916\n",
            "  F1-score: 0.926\n",
            "Class 2:\n",
            "  TP: 270\n",
            "  TN: 279\n",
            "  FP: 26\n",
            "  FN: 52\n",
            "  Recall: 0.839\n",
            "  Specificity: 0.915\n",
            "  Precision: 0.912\n",
            "  F1-score: 0.874\n",
            "\n",
            "Macro-averaged Metrics:\n",
            "Macro Recall: 0.885\n",
            "Macro Precision: 0.857\n",
            "Macro F1-score: 0.869\n",
            "Accuracy (ACC): 0.876\n",
            "Balanced Accuracy (BAC): 0.885\n",
            "Custom Balanced Accuracy (BCC): 0.911\n"
          ]
        }
      ]
    },
    {
      "cell_type": "code",
      "source": [],
      "metadata": {
        "id": "aVBY1I83ZGbp"
      },
      "execution_count": 9,
      "outputs": []
    }
  ]
}