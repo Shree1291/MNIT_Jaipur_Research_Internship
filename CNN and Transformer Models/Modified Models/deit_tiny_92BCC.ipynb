{
  "nbformat": 4,
  "nbformat_minor": 0,
  "metadata": {
    "colab": {
      "provenance": [],
      "gpuType": "T4"
    },
    "kernelspec": {
      "name": "python3",
      "display_name": "Python 3"
    },
    "language_info": {
      "name": "python"
    },
    "accelerator": "GPU"
  },
  "cells": [
    {
      "cell_type": "code",
      "execution_count": 1,
      "metadata": {
        "colab": {
          "base_uri": "https://localhost:8080/"
        },
        "id": "FUOyvt_HwXXC",
        "outputId": "f49bba97-e54c-4b37-b3a6-e58f25274a3a"
      },
      "outputs": [
        {
          "output_type": "stream",
          "name": "stdout",
          "text": [
            "Requirement already satisfied: gdown in /usr/local/lib/python3.10/dist-packages (5.1.0)\n",
            "Collecting timm\n",
            "  Downloading timm-1.0.8-py3-none-any.whl.metadata (53 kB)\n",
            "\u001b[2K     \u001b[90m━━━━━━━━━━━━━━━━━━━━━━━━━━━━━━━━━━━━━━━━\u001b[0m \u001b[32m53.8/53.8 kB\u001b[0m \u001b[31m1.7 MB/s\u001b[0m eta \u001b[36m0:00:00\u001b[0m\n",
            "\u001b[?25hRequirement already satisfied: beautifulsoup4 in /usr/local/lib/python3.10/dist-packages (from gdown) (4.12.3)\n",
            "Requirement already satisfied: filelock in /usr/local/lib/python3.10/dist-packages (from gdown) (3.15.4)\n",
            "Requirement already satisfied: requests[socks] in /usr/local/lib/python3.10/dist-packages (from gdown) (2.31.0)\n",
            "Requirement already satisfied: tqdm in /usr/local/lib/python3.10/dist-packages (from gdown) (4.66.4)\n",
            "Requirement already satisfied: torch in /usr/local/lib/python3.10/dist-packages (from timm) (2.3.1+cu121)\n",
            "Requirement already satisfied: torchvision in /usr/local/lib/python3.10/dist-packages (from timm) (0.18.1+cu121)\n",
            "Requirement already satisfied: pyyaml in /usr/local/lib/python3.10/dist-packages (from timm) (6.0.1)\n",
            "Requirement already satisfied: huggingface_hub in /usr/local/lib/python3.10/dist-packages (from timm) (0.23.5)\n",
            "Requirement already satisfied: safetensors in /usr/local/lib/python3.10/dist-packages (from timm) (0.4.3)\n",
            "Requirement already satisfied: soupsieve>1.2 in /usr/local/lib/python3.10/dist-packages (from beautifulsoup4->gdown) (2.5)\n",
            "Requirement already satisfied: fsspec>=2023.5.0 in /usr/local/lib/python3.10/dist-packages (from huggingface_hub->timm) (2024.6.1)\n",
            "Requirement already satisfied: packaging>=20.9 in /usr/local/lib/python3.10/dist-packages (from huggingface_hub->timm) (24.1)\n",
            "Requirement already satisfied: typing-extensions>=3.7.4.3 in /usr/local/lib/python3.10/dist-packages (from huggingface_hub->timm) (4.12.2)\n",
            "Requirement already satisfied: charset-normalizer<4,>=2 in /usr/local/lib/python3.10/dist-packages (from requests[socks]->gdown) (3.3.2)\n",
            "Requirement already satisfied: idna<4,>=2.5 in /usr/local/lib/python3.10/dist-packages (from requests[socks]->gdown) (3.7)\n",
            "Requirement already satisfied: urllib3<3,>=1.21.1 in /usr/local/lib/python3.10/dist-packages (from requests[socks]->gdown) (2.0.7)\n",
            "Requirement already satisfied: certifi>=2017.4.17 in /usr/local/lib/python3.10/dist-packages (from requests[socks]->gdown) (2024.7.4)\n",
            "Requirement already satisfied: PySocks!=1.5.7,>=1.5.6 in /usr/local/lib/python3.10/dist-packages (from requests[socks]->gdown) (1.7.1)\n",
            "Requirement already satisfied: sympy in /usr/local/lib/python3.10/dist-packages (from torch->timm) (1.13.1)\n",
            "Requirement already satisfied: networkx in /usr/local/lib/python3.10/dist-packages (from torch->timm) (3.3)\n",
            "Requirement already satisfied: jinja2 in /usr/local/lib/python3.10/dist-packages (from torch->timm) (3.1.4)\n",
            "Collecting nvidia-cuda-nvrtc-cu12==12.1.105 (from torch->timm)\n",
            "  Using cached nvidia_cuda_nvrtc_cu12-12.1.105-py3-none-manylinux1_x86_64.whl.metadata (1.5 kB)\n",
            "Collecting nvidia-cuda-runtime-cu12==12.1.105 (from torch->timm)\n",
            "  Using cached nvidia_cuda_runtime_cu12-12.1.105-py3-none-manylinux1_x86_64.whl.metadata (1.5 kB)\n",
            "Collecting nvidia-cuda-cupti-cu12==12.1.105 (from torch->timm)\n",
            "  Using cached nvidia_cuda_cupti_cu12-12.1.105-py3-none-manylinux1_x86_64.whl.metadata (1.6 kB)\n",
            "Collecting nvidia-cudnn-cu12==8.9.2.26 (from torch->timm)\n",
            "  Using cached nvidia_cudnn_cu12-8.9.2.26-py3-none-manylinux1_x86_64.whl.metadata (1.6 kB)\n",
            "Collecting nvidia-cublas-cu12==12.1.3.1 (from torch->timm)\n",
            "  Using cached nvidia_cublas_cu12-12.1.3.1-py3-none-manylinux1_x86_64.whl.metadata (1.5 kB)\n",
            "Collecting nvidia-cufft-cu12==11.0.2.54 (from torch->timm)\n",
            "  Using cached nvidia_cufft_cu12-11.0.2.54-py3-none-manylinux1_x86_64.whl.metadata (1.5 kB)\n",
            "Collecting nvidia-curand-cu12==10.3.2.106 (from torch->timm)\n",
            "  Using cached nvidia_curand_cu12-10.3.2.106-py3-none-manylinux1_x86_64.whl.metadata (1.5 kB)\n",
            "Collecting nvidia-cusolver-cu12==11.4.5.107 (from torch->timm)\n",
            "  Using cached nvidia_cusolver_cu12-11.4.5.107-py3-none-manylinux1_x86_64.whl.metadata (1.6 kB)\n",
            "Collecting nvidia-cusparse-cu12==12.1.0.106 (from torch->timm)\n",
            "  Using cached nvidia_cusparse_cu12-12.1.0.106-py3-none-manylinux1_x86_64.whl.metadata (1.6 kB)\n",
            "Collecting nvidia-nccl-cu12==2.20.5 (from torch->timm)\n",
            "  Using cached nvidia_nccl_cu12-2.20.5-py3-none-manylinux2014_x86_64.whl.metadata (1.8 kB)\n",
            "Collecting nvidia-nvtx-cu12==12.1.105 (from torch->timm)\n",
            "  Using cached nvidia_nvtx_cu12-12.1.105-py3-none-manylinux1_x86_64.whl.metadata (1.7 kB)\n",
            "Requirement already satisfied: triton==2.3.1 in /usr/local/lib/python3.10/dist-packages (from torch->timm) (2.3.1)\n",
            "Collecting nvidia-nvjitlink-cu12 (from nvidia-cusolver-cu12==11.4.5.107->torch->timm)\n",
            "  Downloading nvidia_nvjitlink_cu12-12.5.82-py3-none-manylinux2014_x86_64.whl.metadata (1.5 kB)\n",
            "Requirement already satisfied: numpy in /usr/local/lib/python3.10/dist-packages (from torchvision->timm) (1.26.4)\n",
            "Requirement already satisfied: pillow!=8.3.*,>=5.3.0 in /usr/local/lib/python3.10/dist-packages (from torchvision->timm) (9.4.0)\n",
            "Requirement already satisfied: MarkupSafe>=2.0 in /usr/local/lib/python3.10/dist-packages (from jinja2->torch->timm) (2.1.5)\n",
            "Requirement already satisfied: mpmath<1.4,>=1.1.0 in /usr/local/lib/python3.10/dist-packages (from sympy->torch->timm) (1.3.0)\n",
            "Downloading timm-1.0.8-py3-none-any.whl (2.3 MB)\n",
            "\u001b[2K   \u001b[90m━━━━━━━━━━━━━━━━━━━━━━━━━━━━━━━━━━━━━━━━\u001b[0m \u001b[32m2.3/2.3 MB\u001b[0m \u001b[31m18.6 MB/s\u001b[0m eta \u001b[36m0:00:00\u001b[0m\n",
            "\u001b[?25hUsing cached nvidia_cublas_cu12-12.1.3.1-py3-none-manylinux1_x86_64.whl (410.6 MB)\n",
            "Using cached nvidia_cuda_cupti_cu12-12.1.105-py3-none-manylinux1_x86_64.whl (14.1 MB)\n",
            "Using cached nvidia_cuda_nvrtc_cu12-12.1.105-py3-none-manylinux1_x86_64.whl (23.7 MB)\n",
            "Using cached nvidia_cuda_runtime_cu12-12.1.105-py3-none-manylinux1_x86_64.whl (823 kB)\n",
            "Using cached nvidia_cudnn_cu12-8.9.2.26-py3-none-manylinux1_x86_64.whl (731.7 MB)\n",
            "Using cached nvidia_cufft_cu12-11.0.2.54-py3-none-manylinux1_x86_64.whl (121.6 MB)\n",
            "Using cached nvidia_curand_cu12-10.3.2.106-py3-none-manylinux1_x86_64.whl (56.5 MB)\n",
            "Using cached nvidia_cusolver_cu12-11.4.5.107-py3-none-manylinux1_x86_64.whl (124.2 MB)\n",
            "Using cached nvidia_cusparse_cu12-12.1.0.106-py3-none-manylinux1_x86_64.whl (196.0 MB)\n",
            "Using cached nvidia_nccl_cu12-2.20.5-py3-none-manylinux2014_x86_64.whl (176.2 MB)\n",
            "Using cached nvidia_nvtx_cu12-12.1.105-py3-none-manylinux1_x86_64.whl (99 kB)\n",
            "Downloading nvidia_nvjitlink_cu12-12.5.82-py3-none-manylinux2014_x86_64.whl (21.3 MB)\n",
            "\u001b[2K   \u001b[90m━━━━━━━━━━━━━━━━━━━━━━━━━━━━━━━━━━━━━━━━\u001b[0m \u001b[32m21.3/21.3 MB\u001b[0m \u001b[31m19.8 MB/s\u001b[0m eta \u001b[36m0:00:00\u001b[0m\n",
            "\u001b[?25hInstalling collected packages: nvidia-nvtx-cu12, nvidia-nvjitlink-cu12, nvidia-nccl-cu12, nvidia-curand-cu12, nvidia-cufft-cu12, nvidia-cuda-runtime-cu12, nvidia-cuda-nvrtc-cu12, nvidia-cuda-cupti-cu12, nvidia-cublas-cu12, nvidia-cusparse-cu12, nvidia-cudnn-cu12, nvidia-cusolver-cu12, timm\n",
            "Successfully installed nvidia-cublas-cu12-12.1.3.1 nvidia-cuda-cupti-cu12-12.1.105 nvidia-cuda-nvrtc-cu12-12.1.105 nvidia-cuda-runtime-cu12-12.1.105 nvidia-cudnn-cu12-8.9.2.26 nvidia-cufft-cu12-11.0.2.54 nvidia-curand-cu12-10.3.2.106 nvidia-cusolver-cu12-11.4.5.107 nvidia-cusparse-cu12-12.1.0.106 nvidia-nccl-cu12-2.20.5 nvidia-nvjitlink-cu12-12.5.82 nvidia-nvtx-cu12-12.1.105 timm-1.0.8\n"
          ]
        }
      ],
      "source": [
        "\n",
        "!pip install gdown timm\n",
        "\n",
        "import gdown\n",
        "import zipfile\n",
        "import torch\n",
        "import torch.nn as nn\n",
        "import torch.optim as optim\n",
        "from torch.optim.lr_scheduler import ReduceLROnPlateau\n",
        "from torch.utils.data import DataLoader, Subset\n",
        "import torchvision.transforms as transforms\n",
        "from tqdm import tqdm\n",
        "from sklearn.model_selection import train_test_split\n",
        "from PIL import Image\n",
        "import os\n",
        "import timm\n",
        "import numpy as np\n",
        "from sklearn.metrics import classification_report\n",
        "import matplotlib.pyplot as plt\n"
      ]
    },
    {
      "cell_type": "code",
      "source": [
        "# Download and extract dataset\n",
        "file_id = '1jsMUDlvsXWQu2BansJz73mAErVyNg_g7'\n",
        "destination = '/content/shared_file.zip'\n",
        "gdown.download(id=file_id, output=destination, quiet=False)\n",
        "\n",
        "# Check if the file is indeed a ZIP file\n",
        "zip_path = '/content/shared_file.zip'\n",
        "\n",
        "try:\n",
        "    with zipfile.ZipFile(zip_path, 'r') as zip_ref:\n",
        "        print(\"ZIP file opened successfully.\")\n",
        "        zip_ref.extractall('/content')\n",
        "    print(\"Extraction complete.\")\n",
        "except zipfile.BadZipFile:\n",
        "    print(\"Error: The file is not a valid ZIP file or it is corrupted.\")\n",
        "except Exception as e:\n",
        "    print(f\"An unexpected error occurred: {e}\")\n",
        "\n",
        "# Check if GPU is available\n",
        "device = torch.device(\"cuda\" if torch.cuda.is_available() else \"cpu\")\n",
        "print(\"Using device:\", device)\n"
      ],
      "metadata": {
        "colab": {
          "base_uri": "https://localhost:8080/"
        },
        "id": "AlDQkgxzw9mT",
        "outputId": "ad97ce1d-bc7b-48df-b880-47542bc3b820"
      },
      "execution_count": 2,
      "outputs": [
        {
          "output_type": "stream",
          "name": "stderr",
          "text": [
            "Downloading...\n",
            "From (original): https://drive.google.com/uc?id=1jsMUDlvsXWQu2BansJz73mAErVyNg_g7\n",
            "From (redirected): https://drive.google.com/uc?id=1jsMUDlvsXWQu2BansJz73mAErVyNg_g7&confirm=t&uuid=4d3ebebe-6214-44b8-8fcb-41070f45c039\n",
            "To: /content/shared_file.zip\n",
            "100%|██████████| 1.46G/1.46G [00:57<00:00, 25.4MB/s]\n"
          ]
        },
        {
          "output_type": "stream",
          "name": "stdout",
          "text": [
            "ZIP file opened successfully.\n",
            "Extraction complete.\n",
            "Using device: cuda\n"
          ]
        }
      ]
    },
    {
      "cell_type": "code",
      "source": [
        "# Custom Dataset class\n",
        "class CustomDataset(torch.utils.data.Dataset):\n",
        "    def __init__(self, data, transform=None):\n",
        "        self.data = data\n",
        "        self.transform = transform\n",
        "\n",
        "    def __len__(self):\n",
        "        return len(self.data)\n",
        "\n",
        "    def __getitem__(self, idx):\n",
        "        img_path, label = self.data[idx]\n",
        "        img = Image.open(img_path).convert('RGB')\n",
        "        if self.transform:\n",
        "            img = self.transform(img)\n",
        "        label_tensor = torch.tensor(label, dtype=torch.long)\n",
        "        return img, label_tensor\n",
        "\n",
        "# Data augmentation and preprocessing\n",
        "train_transform = transforms.Compose([\n",
        "    transforms.Resize((224, 224)),\n",
        "    transforms.RandomRotation(90),\n",
        "    transforms.RandomHorizontalFlip(),\n",
        "    transforms.RandomVerticalFlip(),\n",
        "    transforms.ToTensor()\n",
        "])\n",
        "\n",
        "test_val_transform = transforms.Compose([\n",
        "    transforms.Resize((224, 224)),\n",
        "    transforms.ToTensor()\n",
        "])\n",
        "\n",
        "# Load data\n",
        "data_dirs = {\n",
        "    'T4_Ptrain': [\"l0\", \"l1\", \"l2\"],\n",
        "    'T4_Ptest': [\"l0\", \"l1\", \"l2\"]\n",
        "}\n",
        "data_root = \"/content/T4_Pdata\"\n",
        "\n",
        "# Function to load dataset\n",
        "def load_data(phase, data_dirs, data_root):\n",
        "    data = []\n",
        "    for label, folder in enumerate(data_dirs[phase]):\n",
        "        folder_path = os.path.join(data_root, phase, folder)\n",
        "        image_files = os.listdir(folder_path)\n",
        "        for image_file in image_files:\n",
        "            image_path = os.path.join(folder_path, image_file)\n",
        "            data.append((image_path, label))\n",
        "    return data\n",
        "\n",
        "train_data = load_data('T4_Ptrain', data_dirs, data_root)\n",
        "test_data = load_data('T4_Ptest', data_dirs, data_root)\n",
        "\n",
        "# Split train data into training and validation sets\n",
        "train_data, val_data = train_test_split(train_data, test_size=0.2, stratify=[label for _, label in train_data])\n",
        "\n",
        "# Create datasets\n",
        "train_dataset = CustomDataset(train_data, transform=train_transform)\n",
        "val_dataset = CustomDataset(val_data, transform=test_val_transform)\n",
        "test_dataset = CustomDataset(test_data, transform=test_val_transform)\n",
        "\n",
        "# Create DataLoaders\n",
        "batch_size = 32\n",
        "train_loader = DataLoader(train_dataset, batch_size=batch_size, shuffle=True)\n",
        "val_loader = DataLoader(val_dataset, batch_size=batch_size, shuffle=False)\n",
        "test_loader = DataLoader(test_dataset, batch_size=batch_size, shuffle=False)\n",
        "\n",
        "# Load the model\n",
        "model = timm.create_model(\"deit_tiny_patch16_224\", pretrained=True)\n",
        "\n",
        "# Modify the final layer\n",
        "num_classes = len(data_dirs['T4_Ptrain'])\n",
        "model.head = nn.Linear(model.head.in_features, num_classes)\n",
        "\n",
        "# Move model to GPU\n",
        "device = torch.device(\"cuda\" if torch.cuda.is_available() else \"cpu\")\n",
        "model.to(device)\n",
        "\n",
        "# Define optimizer and scheduler\n",
        "optimizer = optim.Adam(filter(lambda p: p.requires_grad, model.parameters()), lr=0.0001)\n",
        "scheduler = ReduceLROnPlateau(optimizer, mode='min', factor=0.1, patience=10, verbose=True, min_lr=1e-6)\n",
        "\n",
        "# Define loss function with class weights\n",
        "class_counts = np.bincount([label for _, label in train_data])\n",
        "class_weights = 1. / class_counts\n",
        "class_weights = class_weights / class_weights.sum()\n",
        "class_weights = torch.tensor(class_weights, dtype=torch.float).to(device)\n",
        "criterion = nn.CrossEntropyLoss(weight=class_weights)\n"
      ],
      "metadata": {
        "colab": {
          "base_uri": "https://localhost:8080/"
        },
        "id": "bid04Dam2feT",
        "outputId": "1da91d97-ab29-412b-e207-13054802c56c"
      },
      "execution_count": 10,
      "outputs": [
        {
          "output_type": "stream",
          "name": "stderr",
          "text": [
            "/usr/local/lib/python3.10/dist-packages/torch/optim/lr_scheduler.py:28: UserWarning: The verbose parameter is deprecated. Please use get_last_lr() to access the learning rate.\n",
            "  warnings.warn(\"The verbose parameter is deprecated. Please use get_last_lr() \"\n"
          ]
        }
      ]
    },
    {
      "cell_type": "code",
      "source": [
        "# Train the model\n",
        "num_epochs = 100\n",
        "\n",
        "train_losses = []\n",
        "val_losses = []\n",
        "train_accuracies = []\n",
        "val_accuracies = []\n",
        "\n",
        "for epoch in range(num_epochs):\n",
        "    model.train()\n",
        "    train_loss = 0.0\n",
        "    correct = 0\n",
        "    total = 0\n",
        "    progress_bar = tqdm(train_loader, desc=f'Epoch {epoch+1}/{num_epochs}', leave=False)\n",
        "    for images, labels in progress_bar:\n",
        "        images, labels = images.to(device), labels.to(device)\n",
        "        optimizer.zero_grad()\n",
        "        outputs = model(images)\n",
        "        loss = criterion(outputs, labels)\n",
        "        loss.backward()\n",
        "        optimizer.step()\n",
        "        train_loss += loss.item() * labels.size(0)\n",
        "        _, predicted = torch.max(outputs, 1)\n",
        "        total += labels.size(0)\n",
        "        correct += (predicted == labels).sum().item()\n",
        "        progress_bar.set_postfix({'Loss': train_loss / total, 'Accuracy': 100 * correct / total})\n",
        "\n",
        "    train_loss = train_loss / len(train_loader.dataset)\n",
        "    train_accuracy = 100 * correct / total\n",
        "    train_losses.append(train_loss)\n",
        "    train_accuracies.append(train_accuracy)\n",
        "\n",
        "    model.eval()\n",
        "    val_loss = 0.0\n",
        "    correct = 0\n",
        "    total = 0\n",
        "    with torch.no_grad():\n",
        "        for images, labels in val_loader:\n",
        "            images, labels = images.to(device), labels.to(device)\n",
        "            outputs = model(images)\n",
        "            loss = criterion(outputs, labels)\n",
        "            val_loss += loss.item() * labels.size(0)\n",
        "            _, predicted = torch.max(outputs, 1)\n",
        "            total += labels.size(0)\n",
        "            correct += (predicted == labels).sum().item()\n",
        "\n",
        "    val_loss = val_loss / len(val_loader.dataset)\n",
        "    val_accuracy = 100 * correct / total\n",
        "    val_losses.append(val_loss)\n",
        "    val_accuracies.append(val_accuracy)\n",
        "\n",
        "    print(f'Epoch {epoch+1}/{num_epochs}, '\n",
        "          f'Train Loss: {train_loss:.4f}, Train Accuracy: {train_accuracy:.2f}%, '\n",
        "          f'Val Loss: {val_loss:.4f}, Val Accuracy: {val_accuracy:.2f}%')\n",
        "\n",
        "    scheduler.step(val_loss)\n"
      ],
      "metadata": {
        "colab": {
          "base_uri": "https://localhost:8080/"
        },
        "id": "PfXaZsoKwrIr",
        "outputId": "f9ae326b-4acf-4366-eea3-c53610253540"
      },
      "execution_count": 11,
      "outputs": [
        {
          "output_type": "stream",
          "name": "stderr",
          "text": []
        },
        {
          "output_type": "stream",
          "name": "stdout",
          "text": [
            "Epoch 1/100, Train Loss: 0.8540, Train Accuracy: 54.43%, Val Loss: 0.7159, Val Accuracy: 62.74%\n"
          ]
        },
        {
          "output_type": "stream",
          "name": "stderr",
          "text": []
        },
        {
          "output_type": "stream",
          "name": "stdout",
          "text": [
            "Epoch 2/100, Train Loss: 0.6976, Train Accuracy: 64.99%, Val Loss: 0.6407, Val Accuracy: 73.25%\n"
          ]
        },
        {
          "output_type": "stream",
          "name": "stderr",
          "text": []
        },
        {
          "output_type": "stream",
          "name": "stdout",
          "text": [
            "Epoch 3/100, Train Loss: 0.6428, Train Accuracy: 67.78%, Val Loss: 0.6510, Val Accuracy: 73.09%\n"
          ]
        },
        {
          "output_type": "stream",
          "name": "stderr",
          "text": []
        },
        {
          "output_type": "stream",
          "name": "stdout",
          "text": [
            "Epoch 4/100, Train Loss: 0.5692, Train Accuracy: 70.89%, Val Loss: 0.5491, Val Accuracy: 72.29%\n"
          ]
        },
        {
          "output_type": "stream",
          "name": "stderr",
          "text": []
        },
        {
          "output_type": "stream",
          "name": "stdout",
          "text": [
            "Epoch 5/100, Train Loss: 0.5470, Train Accuracy: 73.48%, Val Loss: 0.6575, Val Accuracy: 73.57%\n"
          ]
        },
        {
          "output_type": "stream",
          "name": "stderr",
          "text": []
        },
        {
          "output_type": "stream",
          "name": "stdout",
          "text": [
            "Epoch 6/100, Train Loss: 0.4762, Train Accuracy: 77.11%, Val Loss: 0.5608, Val Accuracy: 77.23%\n"
          ]
        },
        {
          "output_type": "stream",
          "name": "stderr",
          "text": []
        },
        {
          "output_type": "stream",
          "name": "stdout",
          "text": [
            "Epoch 7/100, Train Loss: 0.4420, Train Accuracy: 78.83%, Val Loss: 0.5304, Val Accuracy: 78.82%\n"
          ]
        },
        {
          "output_type": "stream",
          "name": "stderr",
          "text": []
        },
        {
          "output_type": "stream",
          "name": "stdout",
          "text": [
            "Epoch 8/100, Train Loss: 0.3807, Train Accuracy: 81.46%, Val Loss: 0.5567, Val Accuracy: 78.82%\n"
          ]
        },
        {
          "output_type": "stream",
          "name": "stderr",
          "text": []
        },
        {
          "output_type": "stream",
          "name": "stdout",
          "text": [
            "Epoch 9/100, Train Loss: 0.3616, Train Accuracy: 82.54%, Val Loss: 0.5198, Val Accuracy: 77.23%\n"
          ]
        },
        {
          "output_type": "stream",
          "name": "stderr",
          "text": []
        },
        {
          "output_type": "stream",
          "name": "stdout",
          "text": [
            "Epoch 10/100, Train Loss: 0.3060, Train Accuracy: 85.49%, Val Loss: 0.5250, Val Accuracy: 78.50%\n"
          ]
        },
        {
          "output_type": "stream",
          "name": "stderr",
          "text": []
        },
        {
          "output_type": "stream",
          "name": "stdout",
          "text": [
            "Epoch 11/100, Train Loss: 0.3074, Train Accuracy: 86.28%, Val Loss: 0.5368, Val Accuracy: 81.53%\n"
          ]
        },
        {
          "output_type": "stream",
          "name": "stderr",
          "text": []
        },
        {
          "output_type": "stream",
          "name": "stdout",
          "text": [
            "Epoch 12/100, Train Loss: 0.2671, Train Accuracy: 88.24%, Val Loss: 0.4740, Val Accuracy: 81.37%\n"
          ]
        },
        {
          "output_type": "stream",
          "name": "stderr",
          "text": []
        },
        {
          "output_type": "stream",
          "name": "stdout",
          "text": [
            "Epoch 13/100, Train Loss: 0.2445, Train Accuracy: 89.11%, Val Loss: 0.5700, Val Accuracy: 82.96%\n"
          ]
        },
        {
          "output_type": "stream",
          "name": "stderr",
          "text": []
        },
        {
          "output_type": "stream",
          "name": "stdout",
          "text": [
            "Epoch 14/100, Train Loss: 0.2359, Train Accuracy: 89.07%, Val Loss: 0.4889, Val Accuracy: 83.92%\n"
          ]
        },
        {
          "output_type": "stream",
          "name": "stderr",
          "text": []
        },
        {
          "output_type": "stream",
          "name": "stdout",
          "text": [
            "Epoch 15/100, Train Loss: 0.2560, Train Accuracy: 88.64%, Val Loss: 0.5689, Val Accuracy: 82.17%\n"
          ]
        },
        {
          "output_type": "stream",
          "name": "stderr",
          "text": []
        },
        {
          "output_type": "stream",
          "name": "stdout",
          "text": [
            "Epoch 16/100, Train Loss: 0.2138, Train Accuracy: 90.39%, Val Loss: 0.4706, Val Accuracy: 85.19%\n"
          ]
        },
        {
          "output_type": "stream",
          "name": "stderr",
          "text": []
        },
        {
          "output_type": "stream",
          "name": "stdout",
          "text": [
            "Epoch 17/100, Train Loss: 0.1754, Train Accuracy: 92.30%, Val Loss: 0.5641, Val Accuracy: 85.03%\n"
          ]
        },
        {
          "output_type": "stream",
          "name": "stderr",
          "text": []
        },
        {
          "output_type": "stream",
          "name": "stdout",
          "text": [
            "Epoch 18/100, Train Loss: 0.1669, Train Accuracy: 92.46%, Val Loss: 0.6475, Val Accuracy: 82.17%\n"
          ]
        },
        {
          "output_type": "stream",
          "name": "stderr",
          "text": []
        },
        {
          "output_type": "stream",
          "name": "stdout",
          "text": [
            "Epoch 19/100, Train Loss: 0.1763, Train Accuracy: 92.03%, Val Loss: 0.4784, Val Accuracy: 84.24%\n"
          ]
        },
        {
          "output_type": "stream",
          "name": "stderr",
          "text": []
        },
        {
          "output_type": "stream",
          "name": "stdout",
          "text": [
            "Epoch 20/100, Train Loss: 0.1529, Train Accuracy: 93.22%, Val Loss: 0.4974, Val Accuracy: 86.62%\n"
          ]
        },
        {
          "output_type": "stream",
          "name": "stderr",
          "text": []
        },
        {
          "output_type": "stream",
          "name": "stdout",
          "text": [
            "Epoch 21/100, Train Loss: 0.1374, Train Accuracy: 94.14%, Val Loss: 0.4826, Val Accuracy: 86.78%\n"
          ]
        },
        {
          "output_type": "stream",
          "name": "stderr",
          "text": []
        },
        {
          "output_type": "stream",
          "name": "stdout",
          "text": [
            "Epoch 22/100, Train Loss: 0.1199, Train Accuracy: 94.38%, Val Loss: 0.5726, Val Accuracy: 85.19%\n"
          ]
        },
        {
          "output_type": "stream",
          "name": "stderr",
          "text": []
        },
        {
          "output_type": "stream",
          "name": "stdout",
          "text": [
            "Epoch 23/100, Train Loss: 0.1663, Train Accuracy: 92.94%, Val Loss: 0.5261, Val Accuracy: 82.80%\n"
          ]
        },
        {
          "output_type": "stream",
          "name": "stderr",
          "text": []
        },
        {
          "output_type": "stream",
          "name": "stdout",
          "text": [
            "Epoch 24/100, Train Loss: 0.1239, Train Accuracy: 94.86%, Val Loss: 0.5425, Val Accuracy: 87.10%\n"
          ]
        },
        {
          "output_type": "stream",
          "name": "stderr",
          "text": []
        },
        {
          "output_type": "stream",
          "name": "stdout",
          "text": [
            "Epoch 25/100, Train Loss: 0.1025, Train Accuracy: 95.45%, Val Loss: 0.5579, Val Accuracy: 83.60%\n"
          ]
        },
        {
          "output_type": "stream",
          "name": "stderr",
          "text": []
        },
        {
          "output_type": "stream",
          "name": "stdout",
          "text": [
            "Epoch 26/100, Train Loss: 0.0870, Train Accuracy: 96.45%, Val Loss: 0.5429, Val Accuracy: 87.26%\n"
          ]
        },
        {
          "output_type": "stream",
          "name": "stderr",
          "text": []
        },
        {
          "output_type": "stream",
          "name": "stdout",
          "text": [
            "Epoch 27/100, Train Loss: 0.0988, Train Accuracy: 95.45%, Val Loss: 0.5826, Val Accuracy: 84.39%\n"
          ]
        },
        {
          "output_type": "stream",
          "name": "stderr",
          "text": []
        },
        {
          "output_type": "stream",
          "name": "stdout",
          "text": [
            "Epoch 28/100, Train Loss: 0.0540, Train Accuracy: 97.85%, Val Loss: 0.5262, Val Accuracy: 87.74%\n"
          ]
        },
        {
          "output_type": "stream",
          "name": "stderr",
          "text": []
        },
        {
          "output_type": "stream",
          "name": "stdout",
          "text": [
            "Epoch 29/100, Train Loss: 0.0328, Train Accuracy: 98.76%, Val Loss: 0.5337, Val Accuracy: 88.06%\n"
          ]
        },
        {
          "output_type": "stream",
          "name": "stderr",
          "text": []
        },
        {
          "output_type": "stream",
          "name": "stdout",
          "text": [
            "Epoch 30/100, Train Loss: 0.0281, Train Accuracy: 98.80%, Val Loss: 0.5331, Val Accuracy: 88.06%\n"
          ]
        },
        {
          "output_type": "stream",
          "name": "stderr",
          "text": []
        },
        {
          "output_type": "stream",
          "name": "stdout",
          "text": [
            "Epoch 31/100, Train Loss: 0.0252, Train Accuracy: 99.04%, Val Loss: 0.5372, Val Accuracy: 87.90%\n"
          ]
        },
        {
          "output_type": "stream",
          "name": "stderr",
          "text": []
        },
        {
          "output_type": "stream",
          "name": "stdout",
          "text": [
            "Epoch 32/100, Train Loss: 0.0271, Train Accuracy: 99.08%, Val Loss: 0.5394, Val Accuracy: 87.90%\n"
          ]
        },
        {
          "output_type": "stream",
          "name": "stderr",
          "text": []
        },
        {
          "output_type": "stream",
          "name": "stdout",
          "text": [
            "Epoch 33/100, Train Loss: 0.0244, Train Accuracy: 98.88%, Val Loss: 0.5533, Val Accuracy: 88.38%\n"
          ]
        },
        {
          "output_type": "stream",
          "name": "stderr",
          "text": []
        },
        {
          "output_type": "stream",
          "name": "stdout",
          "text": [
            "Epoch 34/100, Train Loss: 0.0196, Train Accuracy: 99.44%, Val Loss: 0.5514, Val Accuracy: 88.38%\n"
          ]
        },
        {
          "output_type": "stream",
          "name": "stderr",
          "text": []
        },
        {
          "output_type": "stream",
          "name": "stdout",
          "text": [
            "Epoch 35/100, Train Loss: 0.0173, Train Accuracy: 99.20%, Val Loss: 0.5766, Val Accuracy: 88.22%\n"
          ]
        },
        {
          "output_type": "stream",
          "name": "stderr",
          "text": []
        },
        {
          "output_type": "stream",
          "name": "stdout",
          "text": [
            "Epoch 36/100, Train Loss: 0.0171, Train Accuracy: 99.28%, Val Loss: 0.6069, Val Accuracy: 87.90%\n"
          ]
        },
        {
          "output_type": "stream",
          "name": "stderr",
          "text": []
        },
        {
          "output_type": "stream",
          "name": "stdout",
          "text": [
            "Epoch 37/100, Train Loss: 0.0193, Train Accuracy: 99.24%, Val Loss: 0.5805, Val Accuracy: 87.74%\n"
          ]
        },
        {
          "output_type": "stream",
          "name": "stderr",
          "text": []
        },
        {
          "output_type": "stream",
          "name": "stdout",
          "text": [
            "Epoch 38/100, Train Loss: 0.0192, Train Accuracy: 99.16%, Val Loss: 0.5585, Val Accuracy: 88.06%\n"
          ]
        },
        {
          "output_type": "stream",
          "name": "stderr",
          "text": []
        },
        {
          "output_type": "stream",
          "name": "stdout",
          "text": [
            "Epoch 39/100, Train Loss: 0.0167, Train Accuracy: 99.28%, Val Loss: 0.5619, Val Accuracy: 88.22%\n"
          ]
        },
        {
          "output_type": "stream",
          "name": "stderr",
          "text": []
        },
        {
          "output_type": "stream",
          "name": "stdout",
          "text": [
            "Epoch 40/100, Train Loss: 0.0176, Train Accuracy: 99.28%, Val Loss: 0.5674, Val Accuracy: 88.22%\n"
          ]
        },
        {
          "output_type": "stream",
          "name": "stderr",
          "text": []
        },
        {
          "output_type": "stream",
          "name": "stdout",
          "text": [
            "Epoch 41/100, Train Loss: 0.0128, Train Accuracy: 99.60%, Val Loss: 0.5711, Val Accuracy: 88.38%\n"
          ]
        },
        {
          "output_type": "stream",
          "name": "stderr",
          "text": []
        },
        {
          "output_type": "stream",
          "name": "stdout",
          "text": [
            "Epoch 42/100, Train Loss: 0.0133, Train Accuracy: 99.56%, Val Loss: 0.5804, Val Accuracy: 88.38%\n"
          ]
        },
        {
          "output_type": "stream",
          "name": "stderr",
          "text": []
        },
        {
          "output_type": "stream",
          "name": "stdout",
          "text": [
            "Epoch 43/100, Train Loss: 0.0134, Train Accuracy: 99.48%, Val Loss: 0.5809, Val Accuracy: 88.38%\n"
          ]
        },
        {
          "output_type": "stream",
          "name": "stderr",
          "text": []
        },
        {
          "output_type": "stream",
          "name": "stdout",
          "text": [
            "Epoch 44/100, Train Loss: 0.0146, Train Accuracy: 99.36%, Val Loss: 0.5828, Val Accuracy: 88.22%\n"
          ]
        },
        {
          "output_type": "stream",
          "name": "stderr",
          "text": []
        },
        {
          "output_type": "stream",
          "name": "stdout",
          "text": [
            "Epoch 45/100, Train Loss: 0.0139, Train Accuracy: 99.56%, Val Loss: 0.5811, Val Accuracy: 88.22%\n"
          ]
        },
        {
          "output_type": "stream",
          "name": "stderr",
          "text": []
        },
        {
          "output_type": "stream",
          "name": "stdout",
          "text": [
            "Epoch 46/100, Train Loss: 0.0153, Train Accuracy: 99.32%, Val Loss: 0.5816, Val Accuracy: 88.06%\n"
          ]
        },
        {
          "output_type": "stream",
          "name": "stderr",
          "text": []
        },
        {
          "output_type": "stream",
          "name": "stdout",
          "text": [
            "Epoch 47/100, Train Loss: 0.0130, Train Accuracy: 99.52%, Val Loss: 0.5822, Val Accuracy: 88.06%\n"
          ]
        },
        {
          "output_type": "stream",
          "name": "stderr",
          "text": []
        },
        {
          "output_type": "stream",
          "name": "stdout",
          "text": [
            "Epoch 48/100, Train Loss: 0.0116, Train Accuracy: 99.68%, Val Loss: 0.5890, Val Accuracy: 88.38%\n"
          ]
        },
        {
          "output_type": "stream",
          "name": "stderr",
          "text": []
        },
        {
          "output_type": "stream",
          "name": "stdout",
          "text": [
            "Epoch 49/100, Train Loss: 0.0116, Train Accuracy: 99.64%, Val Loss: 0.5854, Val Accuracy: 88.22%\n"
          ]
        },
        {
          "output_type": "stream",
          "name": "stderr",
          "text": []
        },
        {
          "output_type": "stream",
          "name": "stdout",
          "text": [
            "Epoch 50/100, Train Loss: 0.0138, Train Accuracy: 99.56%, Val Loss: 0.5921, Val Accuracy: 88.38%\n"
          ]
        },
        {
          "output_type": "stream",
          "name": "stderr",
          "text": []
        },
        {
          "output_type": "stream",
          "name": "stdout",
          "text": [
            "Epoch 51/100, Train Loss: 0.0125, Train Accuracy: 99.72%, Val Loss: 0.5907, Val Accuracy: 88.38%\n"
          ]
        },
        {
          "output_type": "stream",
          "name": "stderr",
          "text": []
        },
        {
          "output_type": "stream",
          "name": "stdout",
          "text": [
            "Epoch 52/100, Train Loss: 0.0140, Train Accuracy: 99.36%, Val Loss: 0.5975, Val Accuracy: 88.22%\n"
          ]
        },
        {
          "output_type": "stream",
          "name": "stderr",
          "text": []
        },
        {
          "output_type": "stream",
          "name": "stdout",
          "text": [
            "Epoch 53/100, Train Loss: 0.0113, Train Accuracy: 99.68%, Val Loss: 0.5992, Val Accuracy: 88.22%\n"
          ]
        },
        {
          "output_type": "stream",
          "name": "stderr",
          "text": []
        },
        {
          "output_type": "stream",
          "name": "stdout",
          "text": [
            "Epoch 54/100, Train Loss: 0.0130, Train Accuracy: 99.52%, Val Loss: 0.5989, Val Accuracy: 88.38%\n"
          ]
        },
        {
          "output_type": "stream",
          "name": "stderr",
          "text": []
        },
        {
          "output_type": "stream",
          "name": "stdout",
          "text": [
            "Epoch 55/100, Train Loss: 0.0135, Train Accuracy: 99.52%, Val Loss: 0.5975, Val Accuracy: 88.38%\n"
          ]
        },
        {
          "output_type": "stream",
          "name": "stderr",
          "text": []
        },
        {
          "output_type": "stream",
          "name": "stdout",
          "text": [
            "Epoch 56/100, Train Loss: 0.0112, Train Accuracy: 99.72%, Val Loss: 0.5973, Val Accuracy: 88.38%\n"
          ]
        },
        {
          "output_type": "stream",
          "name": "stderr",
          "text": []
        },
        {
          "output_type": "stream",
          "name": "stdout",
          "text": [
            "Epoch 57/100, Train Loss: 0.0115, Train Accuracy: 99.52%, Val Loss: 0.5976, Val Accuracy: 88.38%\n"
          ]
        },
        {
          "output_type": "stream",
          "name": "stderr",
          "text": []
        },
        {
          "output_type": "stream",
          "name": "stdout",
          "text": [
            "Epoch 58/100, Train Loss: 0.0130, Train Accuracy: 99.56%, Val Loss: 0.5991, Val Accuracy: 88.54%\n"
          ]
        },
        {
          "output_type": "stream",
          "name": "stderr",
          "text": []
        },
        {
          "output_type": "stream",
          "name": "stdout",
          "text": [
            "Epoch 59/100, Train Loss: 0.0139, Train Accuracy: 99.64%, Val Loss: 0.6000, Val Accuracy: 88.38%\n"
          ]
        },
        {
          "output_type": "stream",
          "name": "stderr",
          "text": []
        },
        {
          "output_type": "stream",
          "name": "stdout",
          "text": [
            "Epoch 60/100, Train Loss: 0.0118, Train Accuracy: 99.60%, Val Loss: 0.5939, Val Accuracy: 88.69%\n"
          ]
        },
        {
          "output_type": "stream",
          "name": "stderr",
          "text": []
        },
        {
          "output_type": "stream",
          "name": "stdout",
          "text": [
            "Epoch 61/100, Train Loss: 0.0114, Train Accuracy: 99.52%, Val Loss: 0.5993, Val Accuracy: 88.69%\n"
          ]
        },
        {
          "output_type": "stream",
          "name": "stderr",
          "text": []
        },
        {
          "output_type": "stream",
          "name": "stdout",
          "text": [
            "Epoch 62/100, Train Loss: 0.0115, Train Accuracy: 99.64%, Val Loss: 0.6008, Val Accuracy: 88.54%\n"
          ]
        },
        {
          "output_type": "stream",
          "name": "stderr",
          "text": []
        },
        {
          "output_type": "stream",
          "name": "stdout",
          "text": [
            "Epoch 63/100, Train Loss: 0.0116, Train Accuracy: 99.52%, Val Loss: 0.6042, Val Accuracy: 88.85%\n"
          ]
        },
        {
          "output_type": "stream",
          "name": "stderr",
          "text": []
        },
        {
          "output_type": "stream",
          "name": "stdout",
          "text": [
            "Epoch 64/100, Train Loss: 0.0112, Train Accuracy: 99.60%, Val Loss: 0.6024, Val Accuracy: 88.85%\n"
          ]
        },
        {
          "output_type": "stream",
          "name": "stderr",
          "text": []
        },
        {
          "output_type": "stream",
          "name": "stdout",
          "text": [
            "Epoch 65/100, Train Loss: 0.0110, Train Accuracy: 99.60%, Val Loss: 0.6023, Val Accuracy: 88.69%\n"
          ]
        },
        {
          "output_type": "stream",
          "name": "stderr",
          "text": []
        },
        {
          "output_type": "stream",
          "name": "stdout",
          "text": [
            "Epoch 66/100, Train Loss: 0.0121, Train Accuracy: 99.44%, Val Loss: 0.6053, Val Accuracy: 88.69%\n"
          ]
        },
        {
          "output_type": "stream",
          "name": "stderr",
          "text": []
        },
        {
          "output_type": "stream",
          "name": "stdout",
          "text": [
            "Epoch 67/100, Train Loss: 0.0122, Train Accuracy: 99.60%, Val Loss: 0.5973, Val Accuracy: 88.54%\n"
          ]
        },
        {
          "output_type": "stream",
          "name": "stderr",
          "text": []
        },
        {
          "output_type": "stream",
          "name": "stdout",
          "text": [
            "Epoch 68/100, Train Loss: 0.0090, Train Accuracy: 99.72%, Val Loss: 0.5948, Val Accuracy: 88.54%\n"
          ]
        },
        {
          "output_type": "stream",
          "name": "stderr",
          "text": []
        },
        {
          "output_type": "stream",
          "name": "stdout",
          "text": [
            "Epoch 69/100, Train Loss: 0.0112, Train Accuracy: 99.52%, Val Loss: 0.6068, Val Accuracy: 88.69%\n"
          ]
        },
        {
          "output_type": "stream",
          "name": "stderr",
          "text": []
        },
        {
          "output_type": "stream",
          "name": "stdout",
          "text": [
            "Epoch 70/100, Train Loss: 0.0094, Train Accuracy: 99.76%, Val Loss: 0.6156, Val Accuracy: 88.69%\n"
          ]
        },
        {
          "output_type": "stream",
          "name": "stderr",
          "text": []
        },
        {
          "output_type": "stream",
          "name": "stdout",
          "text": [
            "Epoch 71/100, Train Loss: 0.0120, Train Accuracy: 99.64%, Val Loss: 0.6080, Val Accuracy: 88.54%\n"
          ]
        },
        {
          "output_type": "stream",
          "name": "stderr",
          "text": []
        },
        {
          "output_type": "stream",
          "name": "stdout",
          "text": [
            "Epoch 72/100, Train Loss: 0.0114, Train Accuracy: 99.72%, Val Loss: 0.6027, Val Accuracy: 88.38%\n"
          ]
        },
        {
          "output_type": "stream",
          "name": "stderr",
          "text": []
        },
        {
          "output_type": "stream",
          "name": "stdout",
          "text": [
            "Epoch 73/100, Train Loss: 0.0092, Train Accuracy: 99.60%, Val Loss: 0.6045, Val Accuracy: 88.54%\n"
          ]
        },
        {
          "output_type": "stream",
          "name": "stderr",
          "text": []
        },
        {
          "output_type": "stream",
          "name": "stdout",
          "text": [
            "Epoch 74/100, Train Loss: 0.0087, Train Accuracy: 99.76%, Val Loss: 0.6094, Val Accuracy: 88.69%\n"
          ]
        },
        {
          "output_type": "stream",
          "name": "stderr",
          "text": []
        },
        {
          "output_type": "stream",
          "name": "stdout",
          "text": [
            "Epoch 75/100, Train Loss: 0.0100, Train Accuracy: 99.72%, Val Loss: 0.6068, Val Accuracy: 88.85%\n"
          ]
        },
        {
          "output_type": "stream",
          "name": "stderr",
          "text": []
        },
        {
          "output_type": "stream",
          "name": "stdout",
          "text": [
            "Epoch 76/100, Train Loss: 0.0088, Train Accuracy: 99.72%, Val Loss: 0.6108, Val Accuracy: 88.54%\n"
          ]
        },
        {
          "output_type": "stream",
          "name": "stderr",
          "text": []
        },
        {
          "output_type": "stream",
          "name": "stdout",
          "text": [
            "Epoch 77/100, Train Loss: 0.0109, Train Accuracy: 99.64%, Val Loss: 0.6089, Val Accuracy: 88.38%\n"
          ]
        },
        {
          "output_type": "stream",
          "name": "stderr",
          "text": []
        },
        {
          "output_type": "stream",
          "name": "stdout",
          "text": [
            "Epoch 78/100, Train Loss: 0.0123, Train Accuracy: 99.52%, Val Loss: 0.6141, Val Accuracy: 88.69%\n"
          ]
        },
        {
          "output_type": "stream",
          "name": "stderr",
          "text": []
        },
        {
          "output_type": "stream",
          "name": "stdout",
          "text": [
            "Epoch 79/100, Train Loss: 0.0101, Train Accuracy: 99.68%, Val Loss: 0.6190, Val Accuracy: 88.85%\n"
          ]
        },
        {
          "output_type": "stream",
          "name": "stderr",
          "text": []
        },
        {
          "output_type": "stream",
          "name": "stdout",
          "text": [
            "Epoch 80/100, Train Loss: 0.0077, Train Accuracy: 99.88%, Val Loss: 0.6179, Val Accuracy: 88.85%\n"
          ]
        },
        {
          "output_type": "stream",
          "name": "stderr",
          "text": []
        },
        {
          "output_type": "stream",
          "name": "stdout",
          "text": [
            "Epoch 81/100, Train Loss: 0.0089, Train Accuracy: 99.72%, Val Loss: 0.6125, Val Accuracy: 88.69%\n"
          ]
        },
        {
          "output_type": "stream",
          "name": "stderr",
          "text": []
        },
        {
          "output_type": "stream",
          "name": "stdout",
          "text": [
            "Epoch 82/100, Train Loss: 0.0089, Train Accuracy: 99.72%, Val Loss: 0.6160, Val Accuracy: 89.01%\n"
          ]
        },
        {
          "output_type": "stream",
          "name": "stderr",
          "text": []
        },
        {
          "output_type": "stream",
          "name": "stdout",
          "text": [
            "Epoch 83/100, Train Loss: 0.0090, Train Accuracy: 99.80%, Val Loss: 0.6124, Val Accuracy: 88.54%\n"
          ]
        },
        {
          "output_type": "stream",
          "name": "stderr",
          "text": []
        },
        {
          "output_type": "stream",
          "name": "stdout",
          "text": [
            "Epoch 84/100, Train Loss: 0.0088, Train Accuracy: 99.76%, Val Loss: 0.6128, Val Accuracy: 88.69%\n"
          ]
        },
        {
          "output_type": "stream",
          "name": "stderr",
          "text": []
        },
        {
          "output_type": "stream",
          "name": "stdout",
          "text": [
            "Epoch 85/100, Train Loss: 0.0076, Train Accuracy: 99.76%, Val Loss: 0.6188, Val Accuracy: 88.38%\n"
          ]
        },
        {
          "output_type": "stream",
          "name": "stderr",
          "text": []
        },
        {
          "output_type": "stream",
          "name": "stdout",
          "text": [
            "Epoch 86/100, Train Loss: 0.0072, Train Accuracy: 99.84%, Val Loss: 0.6168, Val Accuracy: 88.54%\n"
          ]
        },
        {
          "output_type": "stream",
          "name": "stderr",
          "text": []
        },
        {
          "output_type": "stream",
          "name": "stdout",
          "text": [
            "Epoch 87/100, Train Loss: 0.0094, Train Accuracy: 99.60%, Val Loss: 0.6322, Val Accuracy: 88.69%\n"
          ]
        },
        {
          "output_type": "stream",
          "name": "stderr",
          "text": []
        },
        {
          "output_type": "stream",
          "name": "stdout",
          "text": [
            "Epoch 88/100, Train Loss: 0.0074, Train Accuracy: 99.80%, Val Loss: 0.6264, Val Accuracy: 88.54%\n"
          ]
        },
        {
          "output_type": "stream",
          "name": "stderr",
          "text": []
        },
        {
          "output_type": "stream",
          "name": "stdout",
          "text": [
            "Epoch 89/100, Train Loss: 0.0075, Train Accuracy: 99.76%, Val Loss: 0.6228, Val Accuracy: 88.38%\n"
          ]
        },
        {
          "output_type": "stream",
          "name": "stderr",
          "text": []
        },
        {
          "output_type": "stream",
          "name": "stdout",
          "text": [
            "Epoch 90/100, Train Loss: 0.0081, Train Accuracy: 99.84%, Val Loss: 0.6164, Val Accuracy: 88.54%\n"
          ]
        },
        {
          "output_type": "stream",
          "name": "stderr",
          "text": []
        },
        {
          "output_type": "stream",
          "name": "stdout",
          "text": [
            "Epoch 91/100, Train Loss: 0.0082, Train Accuracy: 99.64%, Val Loss: 0.6264, Val Accuracy: 88.69%\n"
          ]
        },
        {
          "output_type": "stream",
          "name": "stderr",
          "text": []
        },
        {
          "output_type": "stream",
          "name": "stdout",
          "text": [
            "Epoch 92/100, Train Loss: 0.0082, Train Accuracy: 99.64%, Val Loss: 0.6332, Val Accuracy: 88.54%\n"
          ]
        },
        {
          "output_type": "stream",
          "name": "stderr",
          "text": []
        },
        {
          "output_type": "stream",
          "name": "stdout",
          "text": [
            "Epoch 93/100, Train Loss: 0.0104, Train Accuracy: 99.68%, Val Loss: 0.6285, Val Accuracy: 88.69%\n"
          ]
        },
        {
          "output_type": "stream",
          "name": "stderr",
          "text": []
        },
        {
          "output_type": "stream",
          "name": "stdout",
          "text": [
            "Epoch 94/100, Train Loss: 0.0081, Train Accuracy: 99.72%, Val Loss: 0.6266, Val Accuracy: 89.01%\n"
          ]
        },
        {
          "output_type": "stream",
          "name": "stderr",
          "text": []
        },
        {
          "output_type": "stream",
          "name": "stdout",
          "text": [
            "Epoch 95/100, Train Loss: 0.0098, Train Accuracy: 99.68%, Val Loss: 0.6286, Val Accuracy: 88.69%\n"
          ]
        },
        {
          "output_type": "stream",
          "name": "stderr",
          "text": []
        },
        {
          "output_type": "stream",
          "name": "stdout",
          "text": [
            "Epoch 96/100, Train Loss: 0.0126, Train Accuracy: 99.52%, Val Loss: 0.6366, Val Accuracy: 88.54%\n"
          ]
        },
        {
          "output_type": "stream",
          "name": "stderr",
          "text": []
        },
        {
          "output_type": "stream",
          "name": "stdout",
          "text": [
            "Epoch 97/100, Train Loss: 0.0074, Train Accuracy: 99.92%, Val Loss: 0.6284, Val Accuracy: 88.69%\n"
          ]
        },
        {
          "output_type": "stream",
          "name": "stderr",
          "text": []
        },
        {
          "output_type": "stream",
          "name": "stdout",
          "text": [
            "Epoch 98/100, Train Loss: 0.0089, Train Accuracy: 99.68%, Val Loss: 0.6222, Val Accuracy: 88.69%\n"
          ]
        },
        {
          "output_type": "stream",
          "name": "stderr",
          "text": []
        },
        {
          "output_type": "stream",
          "name": "stdout",
          "text": [
            "Epoch 99/100, Train Loss: 0.0104, Train Accuracy: 99.56%, Val Loss: 0.6266, Val Accuracy: 88.54%\n"
          ]
        },
        {
          "output_type": "stream",
          "name": "stderr",
          "text": []
        },
        {
          "output_type": "stream",
          "name": "stdout",
          "text": [
            "Epoch 100/100, Train Loss: 0.0088, Train Accuracy: 99.76%, Val Loss: 0.6224, Val Accuracy: 88.69%\n"
          ]
        }
      ]
    },
    {
      "cell_type": "code",
      "source": [
        "# Save the trained model\n",
        "torch.save(model.state_dict(), '/content/deit_tiny_model.pth')"
      ],
      "metadata": {
        "id": "GFQyhieL6uOk"
      },
      "execution_count": 15,
      "outputs": []
    },
    {
      "cell_type": "code",
      "source": [
        "\n",
        "# Plotting training and validation losses and accuracies\n",
        "epochs = range(1, len(train_losses) + 1)\n",
        "plt.figure(figsize=(14, 6))\n",
        "\n",
        "plt.subplot(1, 2, 1)\n",
        "plt.plot(epochs, train_losses, label='Train Loss')\n",
        "plt.plot(epochs, val_losses, label='Val Loss')\n",
        "plt.xlabel('Epochs')\n",
        "plt.ylabel('Loss')\n",
        "plt.title('Training and Validation Loss')\n",
        "plt.legend()\n",
        "\n",
        "plt.subplot(1, 2, 2)\n",
        "plt.plot(epochs, train_accuracies, label='Train Accuracy')\n",
        "plt.plot(epochs, val_accuracies, label='Val Accuracy')\n",
        "plt.xlabel('Epochs')\n",
        "plt.ylabel('Accuracy')\n",
        "plt.title('Training and Validation Accuracy')\n",
        "plt.legend()\n",
        "\n",
        "plt.show()\n"
      ],
      "metadata": {
        "colab": {
          "base_uri": "https://localhost:8080/",
          "height": 564
        },
        "id": "Gt1rjB1nwznd",
        "outputId": "980a8bb6-78fb-49bc-9ed0-a4fb55940d0c"
      },
      "execution_count": 12,
      "outputs": [
        {
          "output_type": "display_data",
          "data": {
            "text/plain": [
              "<Figure size 1400x600 with 2 Axes>"
            ],
            "image/png": "[encoded data removed]"
          },
          "metadata": {}
        }
      ]
    },
    {
      "cell_type": "code",
      "source": [
        "\n",
        "# Test the model\n",
        "model.eval()\n",
        "test_correct = 0\n",
        "test_total = 0\n",
        "with torch.no_grad():\n",
        "    for images, labels in test_loader:\n",
        "        images, labels = images.to(device), labels.to(device)  # Move data to GPU\n",
        "        outputs = model(images)\n",
        "        _, predicted = torch.max(outputs, 1)\n",
        "        test_total += labels.size(0)\n",
        "        test_correct += (predicted == labels).sum().item()\n",
        "\n",
        "test_accuracy = 100 * test_correct / test_total\n",
        "print(f'Test Accuracy: {test_accuracy:.2f}%')\n",
        "\n",
        "# Evaluate the model on the test set\n",
        "model.eval()\n",
        "predictions = []\n",
        "true_labels = []\n",
        "\n",
        "with torch.no_grad():\n",
        "    for images, labels in test_loader:\n",
        "        images, labels = images.to(device), labels.to(device)\n",
        "        outputs = model(images)\n",
        "        _, predicted = torch.max(outputs, 1)\n",
        "        predictions.extend(predicted)\n",
        "        true_labels.extend(labels)\n",
        "\n",
        "# Generate classification report\n",
        "true_labels = torch.tensor(true_labels).cpu().numpy()\n",
        "predictions = torch.tensor(predictions).cpu().numpy()\n",
        "report = classification_report(true_labels, predictions, target_names=[f\"Class {i}\" for i in range(num_classes)])\n",
        "print(report)\n"
      ],
      "metadata": {
        "colab": {
          "base_uri": "https://localhost:8080/"
        },
        "id": "aorp5NTHwxeR",
        "outputId": "c5a6a658-ff61-47dd-b9c2-89018056ecf7"
      },
      "execution_count": 13,
      "outputs": [
        {
          "output_type": "stream",
          "name": "stdout",
          "text": [
            "Test Accuracy: 91.87%\n",
            "              precision    recall  f1-score   support\n",
            "\n",
            "     Class 0       0.91      0.82      0.86       118\n",
            "     Class 1       0.95      0.94      0.94       187\n",
            "     Class 2       0.91      0.94      0.92       322\n",
            "\n",
            "    accuracy                           0.92       627\n",
            "   macro avg       0.92      0.90      0.91       627\n",
            "weighted avg       0.92      0.92      0.92       627\n",
            "\n"
          ]
        }
      ]
    },
    {
      "cell_type": "code",
      "source": [
        "from sklearn.metrics import confusion_matrix, classification_report, balanced_accuracy_score\n",
        "import numpy as np\n",
        "\n",
        "# Generate classification report and confusion matrix\n",
        "print(\"Classification Report:\")\n",
        "print(classification_report(true_labels, predictions, target_names=[f\"Class {i}\" for i in range(num_classes)]))\n",
        "\n",
        "cm = confusion_matrix(true_labels, predictions)\n",
        "print(\"Confusion Matrix:\")\n",
        "print(cm)\n",
        "\n",
        "# Calculate per-class metrics\n",
        "TP = np.diag(cm)\n",
        "FP = np.sum(cm, axis=0) - TP\n",
        "FN = np.sum(cm, axis=1) - TP\n",
        "TN = np.sum(cm) - (FP + FN + TP)\n",
        "\n",
        "recall = TP / (TP + FN)\n",
        "specificity = TN / (TN + FP)\n",
        "precision = TP / (TP + FP)\n",
        "f1_score = 2 * precision * recall / (precision + recall)\n",
        "\n",
        "# Calculate macro-averaged metrics\n",
        "macro_recall = np.mean(recall)\n",
        "macro_precision = np.mean(precision)\n",
        "macro_f1_score = np.mean(f1_score)\n",
        "accuracy = np.sum(TP) / np.sum(cm)\n",
        "balanced_accuracy = balanced_accuracy_score(true_labels, predictions)\n",
        "custom_balanced_accuracy = np.mean((recall + specificity) / 2)\n",
        "\n",
        "# Print class-wise metrics\n",
        "print(\"\\nClass-wise Metrics:\")\n",
        "for i in range(len(TP)):\n",
        "    print(f\"Class {i}:\")\n",
        "    print(f\"  TP: {TP[i]}\")\n",
        "    print(f\"  TN: {TN[i]}\")\n",
        "    print(f\"  FP: {FP[i]}\")\n",
        "    print(f\"  FN: {FN[i]}\")\n",
        "    print(f\"  Recall: {recall[i]:.3f}\")\n",
        "    print(f\"  Specificity: {specificity[i]:.3f}\")\n",
        "    print(f\"  Precision: {precision[i]:.3f}\")\n",
        "    print(f\"  F1-score: {f1_score[i]:.3f}\")\n",
        "\n",
        "# Print macro-averaged metrics\n",
        "print(\"\\nMacro-averaged Metrics:\")\n",
        "print(f\"Macro Recall: {macro_recall:.3f}\")\n",
        "print(f\"Macro Precision: {macro_precision:.3f}\")\n",
        "print(f\"Macro F1-score: {macro_f1_score:.3f}\")\n",
        "print(f\"Accuracy (ACC): {accuracy:.3f}\")\n",
        "print(f\"Balanced Accuracy (BAC): {balanced_accuracy:.3f}\")\n",
        "print(f\"Custom Balanced Accuracy (BCC): {custom_balanced_accuracy:.3f}\")\n"
      ],
      "metadata": {
        "id": "zaOKnzNl3pH7",
        "colab": {
          "base_uri": "https://localhost:8080/"
        },
        "outputId": "def3a25e-c4d2-435c-a329-73fdc074fbd4"
      },
      "execution_count": 14,
      "outputs": [
        {
          "output_type": "stream",
          "name": "stdout",
          "text": [
            "Classification Report:\n",
            "              precision    recall  f1-score   support\n",
            "\n",
            "     Class 0       0.91      0.82      0.86       118\n",
            "     Class 1       0.95      0.94      0.94       187\n",
            "     Class 2       0.91      0.94      0.92       322\n",
            "\n",
            "    accuracy                           0.92       627\n",
            "   macro avg       0.92      0.90      0.91       627\n",
            "weighted avg       0.92      0.92      0.92       627\n",
            "\n",
            "Confusion Matrix:\n",
            "[[ 97   0  21]\n",
            " [  1 176  10]\n",
            " [  9  10 303]]\n",
            "\n",
            "Class-wise Metrics:\n",
            "Class 0:\n",
            "  TP: 97\n",
            "  TN: 499\n",
            "  FP: 10\n",
            "  FN: 21\n",
            "  Recall: 0.822\n",
            "  Specificity: 0.980\n",
            "  Precision: 0.907\n",
            "  F1-score: 0.862\n",
            "Class 1:\n",
            "  TP: 176\n",
            "  TN: 430\n",
            "  FP: 10\n",
            "  FN: 11\n",
            "  Recall: 0.941\n",
            "  Specificity: 0.977\n",
            "  Precision: 0.946\n",
            "  F1-score: 0.944\n",
            "Class 2:\n",
            "  TP: 303\n",
            "  TN: 274\n",
            "  FP: 31\n",
            "  FN: 19\n",
            "  Recall: 0.941\n",
            "  Specificity: 0.898\n",
            "  Precision: 0.907\n",
            "  F1-score: 0.924\n",
            "\n",
            "Macro-averaged Metrics:\n",
            "Macro Recall: 0.901\n",
            "Macro Precision: 0.920\n",
            "Macro F1-score: 0.910\n",
            "Accuracy (ACC): 0.919\n",
            "Balanced Accuracy (BAC): 0.901\n",
            "Custom Balanced Accuracy (BCC): 0.927\n"
          ]
        }
      ]
    },
    {
      "cell_type": "code",
      "source": [],
      "metadata": {
        "id": "qYMx0GLCuAOf"
      },
      "execution_count": null,
      "outputs": []
    }
  ]
}